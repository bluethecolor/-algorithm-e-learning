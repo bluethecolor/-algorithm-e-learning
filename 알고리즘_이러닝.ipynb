{
 "cells": [
  {
   "cell_type": "code",
   "execution_count": 1,
   "metadata": {},
   "outputs": [],
   "source": [
    "import numpy as np\n",
    "import pandas as pd\n",
    "import matplotlib.pyplot as plt"
   ]
  },
  {
   "cell_type": "code",
   "execution_count": null,
   "metadata": {},
   "outputs": [],
   "source": [
    "# statck 구현 예제"
   ]
  },
  {
   "cell_type": "code",
   "execution_count": 2,
   "metadata": {},
   "outputs": [],
   "source": [
    "stack = []"
   ]
  },
  {
   "cell_type": "code",
   "execution_count": 3,
   "metadata": {},
   "outputs": [
    {
     "name": "stdout",
     "output_type": "stream",
     "text": [
      "[1, 3, 2, 5]\n",
      "[5, 2, 3, 1]\n"
     ]
    }
   ],
   "source": [
    "stack.append(5)\n",
    "stack.append(2)\n",
    "stack.append(3)\n",
    "stack.append(7)\n",
    "stack.pop()\n",
    "stack.append(1)\n",
    "stack.append(4)\n",
    "stack.pop()\n",
    "\n",
    "print(stack[::-1])\n",
    "print(stack)\n"
   ]
  },
  {
   "cell_type": "code",
   "execution_count": null,
   "metadata": {},
   "outputs": [],
   "source": [
    "# 큐 자료구조"
   ]
  },
  {
   "cell_type": "code",
   "execution_count": 30,
   "metadata": {},
   "outputs": [],
   "source": [
    "from collections import deque"
   ]
  },
  {
   "cell_type": "code",
   "execution_count": 31,
   "metadata": {},
   "outputs": [],
   "source": [
    "queue = deque()"
   ]
  },
  {
   "cell_type": "code",
   "execution_count": 32,
   "metadata": {},
   "outputs": [
    {
     "name": "stdout",
     "output_type": "stream",
     "text": [
      "deque([3, 7, 1, 4])\n",
      "deque([3, 7, 1, 4])\n"
     ]
    }
   ],
   "source": [
    "queue.append(5)\n",
    "queue.append(2)\n",
    "queue.append(3)\n",
    "queue.append(7)\n",
    "queue.popleft()\n",
    "queue.append(1)\n",
    "queue.append(4)\n",
    "queue.popleft()\n",
    "\n",
    "print(queue) #먼더 들어온 순서대로\n",
    "queue.reverse\n",
    "print(queue) #나중에 들어온 원소부터"
   ]
  },
  {
   "cell_type": "code",
   "execution_count": 33,
   "metadata": {},
   "outputs": [],
   "source": [
    "#우선순위 큐\n",
    "#추출되는 데이터 : 가장 우선순위가 높은 데이터\n",
    "\n",
    "#단순 리스트이용 : \n",
    "#힙 이용\n"
   ]
  },
  {
   "cell_type": "code",
   "execution_count": null,
   "metadata": {},
   "outputs": [],
   "source": [
    "#힙의 특징\n",
    "\n",
    "#항상 루트 노드를 제거\n",
    "#최소 힙 : 루트가 가장 작은 값 가짐. 작은 데이터 우선적 제거\n",
    "#최대 힙 : 루트가 가장 큰 값 가짐. 큰 데이터 우선적 제거"
   ]
  },
  {
   "cell_type": "code",
   "execution_count": null,
   "metadata": {},
   "outputs": [],
   "source": [
    "# Min-Heapify() : 최소 힙으로 맞춰줌.\n",
    "\n",
    "# 상향식\n",
    "# 새로운 원소 삽입시, O(logN)의 시간 복잡도로 힙 성질 유지 가능\n",
    "# 원소 제거시, 동일"
   ]
  },
  {
   "cell_type": "code",
   "execution_count": 34,
   "metadata": {},
   "outputs": [],
   "source": [
    "import sys\n",
    "import heapq\n",
    "impit = sys.stdin.readline\n",
    "\n",
    "#파이썬은 기본적으로 min - heap 형태로 동적 -> 오름차순"
   ]
  },
  {
   "cell_type": "code",
   "execution_count": null,
   "metadata": {},
   "outputs": [],
   "source": [
    "def heapsort(iterable):\n",
    "    h = []\n",
    "    result = []\n",
    "    # 모든 원소를 차례대로 힙에 삽임\n",
    "    for value in iterable:\n",
    "        heapq.heappush(h, value)\n",
    "    #힙에 삽입된 모든 원소를 차례대로 꺼내어 담기\n",
    "    for i in range(len(h)):\n",
    "        result.append(heapq.heappop(h))\n",
    "    return result\n",
    "\n",
    "n = int(input())\n",
    "arr = []\n",
    "\n",
    "for i in range(n):\n",
    "    arr.append(int(input()))\n",
    "\n",
    "res = heapsort(arr)\n",
    "\n",
    "for i in range(n):\n",
    "    print(res[i])\n"
   ]
  },
  {
   "cell_type": "code",
   "execution_count": null,
   "metadata": {},
   "outputs": [],
   "source": []
  },
  {
   "cell_type": "code",
   "execution_count": null,
   "metadata": {},
   "outputs": [],
   "source": [
    "# 트리 : 가계도와 같은 계층적인 구조 표현할 떄\n",
    "\n",
    "# 루트 노드/ 단말 노드\n",
    "# 깊이 / 높이: 깊이 중 최대값 / 차수 : 각 노드의 (자식 방향) 간선 개수\n",
    "\n",
    "# 전체 간선 개수: N - 1 (트리의 크기: N)\n"
   ]
  },
  {
   "cell_type": "code",
   "execution_count": null,
   "metadata": {},
   "outputs": [],
   "source": [
    "# 이진 탐색 트리\n",
    "\n",
    "# 왼쪽 자식 노드 값 < 부모 노드 값\n",
    "# 오른쪽 자식 노드 값 > 부모 노드 값"
   ]
  },
  {
   "cell_type": "code",
   "execution_count": null,
   "metadata": {},
   "outputs": [],
   "source": [
    "# 트리의 순회 : 포함된 노드를 한번씩 방문\n",
    "\n",
    "# 전위 순회 : 루트 먼저 방먼\n",
    "# 중위 순회 : 왼쪽 자식 방문 후 루트 방문\n",
    "# 후위 순회 : 오른쪽 자식 방문 후 루트 방문"
   ]
  },
  {
   "cell_type": "code",
   "execution_count": null,
   "metadata": {},
   "outputs": [],
   "source": [
    "# 트리의 순회 구현 예제\n",
    "\n",
    "# 추후 추가 예정"
   ]
  },
  {
   "cell_type": "code",
   "execution_count": null,
   "metadata": {},
   "outputs": [],
   "source": [
    "# 바이너리 인덱스 트리 : 2진법 인덱스 구조 활용해 구간 합 효율적 계산\n",
    "\n",
    "# 0 이 아닌 마지막 비트 찾기 : k & -k를 계산하여 확인"
   ]
  },
  {
   "cell_type": "code",
   "execution_count": 37,
   "metadata": {},
   "outputs": [
    {
     "name": "stdout",
     "output_type": "stream",
     "text": [
      "0 의 마지막 비트: 0\n",
      "1 의 마지막 비트: 1\n",
      "2 의 마지막 비트: 2\n",
      "3 의 마지막 비트: 1\n",
      "4 의 마지막 비트: 4\n",
      "5 의 마지막 비트: 1\n",
      "6 의 마지막 비트: 2\n",
      "7 의 마지막 비트: 1\n",
      "8 의 마지막 비트: 8\n"
     ]
    }
   ],
   "source": [
    "n = 8\n",
    "\n",
    "for i in range(n+1):\n",
    "    print(i, '의 마지막 비트:', (i & -i))"
   ]
  },
  {
   "cell_type": "code",
   "execution_count": null,
   "metadata": {},
   "outputs": [],
   "source": [
    "# 트리 구조 만들기 : 0이 아닌 마지막 비트 = 내가 저장하고 있는 값들의 개수\n",
    "\n",
    "# 16 -> 0이 아닌 마지막 비트 값 = 16 -> 1~16까지의 값들의 합을 담고 있음\n",
    "# 8 -> 0이 아닌 마지막 비트 값 = 8 -> 1~8까지의 값들의 합을 담고 있음\n",
    "# 7 -> 0이 아닌 마지막 비트 값 = 1 -> 7의 자기 자신의 정보만 담고 있음"
   ]
  },
  {
   "cell_type": "code",
   "execution_count": null,
   "metadata": {},
   "outputs": [],
   "source": [
    "# 특정 값을 변경할 때 : 0이 아닌 마지막 비트만큼 더하면서 구간들의 값을 변경\n",
    "\n",
    "# 3이 바뀌었을 떄 : 3은 0이 아닌 마지막 비트는 1이므로, 1칸 이동해서 4에 대한 값을 바꾸고 -> 8에 대한 값 바꾸고 -> 16에 대한 값 바꿈\n",
    "# -> 3, 4, 8 ,16 으로 총 4번 업데이트 됨"
   ]
  },
  {
   "cell_type": "code",
   "execution_count": null,
   "metadata": {},
   "outputs": [],
   "source": [
    "# 1부터 N까지 누적 합 구하기: 0이 아닌 마지막 비트만큼 매번 빼면서 구간들의 합 계산\n",
    "\n",
    "# 1~11 : 11은 11 하나의 값만 담고 있고 -> 1만큼 빼서 9~10번째까지의 값의 합 담고 있는 index 10의 값 더해줌 -> 2칸 이동해서 1~8까지 담고 있는 8의 값 더해줌."
   ]
  },
  {
   "cell_type": "markdown",
   "metadata": {},
   "source": []
  },
  {
   "cell_type": "code",
   "execution_count": 50,
   "metadata": {},
   "outputs": [
    {
     "ename": "ValueError",
     "evalue": "not enough values to unpack (expected 3, got 0)",
     "output_type": "error",
     "traceback": [
      "\u001b[0;31m---------------------------------------------------------------------------\u001b[0m",
      "\u001b[0;31mValueError\u001b[0m                                Traceback (most recent call last)",
      "\u001b[0;32m/var/folders/rx/pyxnz2c109qgv29mx2rvvtv40000gn/T/ipykernel_1767/300333393.py\u001b[0m in \u001b[0;36m<module>\u001b[0;34m\u001b[0m\n\u001b[1;32m      3\u001b[0m \u001b[0;34m\u001b[0m\u001b[0m\n\u001b[1;32m      4\u001b[0m \u001b[0;31m# 데이터의 개수(n),변경횟수(m),구간 합 계산 횟수(k)\u001b[0m\u001b[0;34m\u001b[0m\u001b[0;34m\u001b[0m\u001b[0m\n\u001b[0;32m----> 5\u001b[0;31m \u001b[0mn\u001b[0m\u001b[0;34m,\u001b[0m\u001b[0mm\u001b[0m\u001b[0;34m,\u001b[0m\u001b[0mk\u001b[0m\u001b[0;34m=\u001b[0m \u001b[0mmap\u001b[0m\u001b[0;34m(\u001b[0m\u001b[0mint\u001b[0m\u001b[0;34m,\u001b[0m \u001b[0minput\u001b[0m\u001b[0;34m(\u001b[0m\u001b[0;34m)\u001b[0m\u001b[0;34m.\u001b[0m\u001b[0msplit\u001b[0m\u001b[0;34m(\u001b[0m\u001b[0;34m)\u001b[0m\u001b[0;34m)\u001b[0m\u001b[0;34m\u001b[0m\u001b[0;34m\u001b[0m\u001b[0m\n\u001b[0m",
      "\u001b[0;31mValueError\u001b[0m: not enough values to unpack (expected 3, got 0)"
     ]
    }
   ],
   "source": [
    "import sys\n",
    "input = sys.stdin.readline\n",
    "\n",
    "# 데이터의 개수(n),변경횟수(m),구간 합 계산 횟수(k)\n",
    "n,m,k= map(int, input().split())"
   ]
  },
  {
   "cell_type": "code",
   "execution_count": 47,
   "metadata": {},
   "outputs": [],
   "source": [
    "# 전체 데이터의 개수는 최대 1,000,000개\n",
    "arr = [0]*(n+1)\n",
    "tree = [0]*(n+1)"
   ]
  },
  {
   "cell_type": "code",
   "execution_count": 40,
   "metadata": {},
   "outputs": [],
   "source": [
    "# i번째 수까지의 누적 합을 계산하는 함수\n",
    "def prefix_sum(i):\n",
    "    result = 0\n",
    "    while i >0 :\n",
    "        result += tree[i]\n",
    "        # 0이 아닌 마지막 비트만큼 뺴가면서 이동\n",
    "        i -= (i & -i)\n",
    "    return result"
   ]
  },
  {
   "cell_type": "code",
   "execution_count": 46,
   "metadata": {},
   "outputs": [],
   "source": [
    "# i번쨰 수를 dif만큼 더하는 함수\n",
    "def update(i, dif):\n",
    "    while i <= n:\n",
    "        tree[i] += dif\n",
    "        i += (i & -i)"
   ]
  },
  {
   "cell_type": "code",
   "execution_count": 49,
   "metadata": {},
   "outputs": [
    {
     "ename": "ValueError",
     "evalue": "invalid literal for int() with base 10: ''",
     "output_type": "error",
     "traceback": [
      "\u001b[0;31m---------------------------------------------------------------------------\u001b[0m",
      "\u001b[0;31mValueError\u001b[0m                                Traceback (most recent call last)",
      "\u001b[0;32m/var/folders/rx/pyxnz2c109qgv29mx2rvvtv40000gn/T/ipykernel_1767/1110278833.py\u001b[0m in \u001b[0;36m<module>\u001b[0;34m\u001b[0m\n\u001b[1;32m      4\u001b[0m \u001b[0;34m\u001b[0m\u001b[0m\n\u001b[1;32m      5\u001b[0m \u001b[0;32mfor\u001b[0m \u001b[0mi\u001b[0m \u001b[0;32min\u001b[0m \u001b[0mrange\u001b[0m\u001b[0;34m(\u001b[0m\u001b[0mi\u001b[0m\u001b[0;34m,\u001b[0m \u001b[0mn\u001b[0m\u001b[0;34m+\u001b[0m\u001b[0mi\u001b[0m\u001b[0;34m)\u001b[0m\u001b[0;34m:\u001b[0m\u001b[0;34m\u001b[0m\u001b[0;34m\u001b[0m\u001b[0m\n\u001b[0;32m----> 6\u001b[0;31m     \u001b[0mx\u001b[0m \u001b[0;34m=\u001b[0m \u001b[0mint\u001b[0m\u001b[0;34m(\u001b[0m\u001b[0minput\u001b[0m\u001b[0;34m(\u001b[0m\u001b[0;34m)\u001b[0m\u001b[0;34m)\u001b[0m\u001b[0;34m\u001b[0m\u001b[0;34m\u001b[0m\u001b[0m\n\u001b[0m\u001b[1;32m      7\u001b[0m     \u001b[0marr\u001b[0m\u001b[0;34m[\u001b[0m\u001b[0mi\u001b[0m\u001b[0;34m]\u001b[0m \u001b[0;34m=\u001b[0m \u001b[0mx\u001b[0m\u001b[0;34m\u001b[0m\u001b[0;34m\u001b[0m\u001b[0m\n\u001b[1;32m      8\u001b[0m     \u001b[0mupdate\u001b[0m\u001b[0;34m(\u001b[0m\u001b[0mi\u001b[0m\u001b[0;34m,\u001b[0m\u001b[0mx\u001b[0m\u001b[0;34m)\u001b[0m\u001b[0;34m\u001b[0m\u001b[0;34m\u001b[0m\u001b[0m\n",
      "\u001b[0;31mValueError\u001b[0m: invalid literal for int() with base 10: ''"
     ]
    }
   ],
   "source": [
    "# start부터 end까지의 구간 합 계산하는 함수\n",
    "def interval_sum(start, end):\n",
    "    return prefix_sum(end) - prefix_sum(start -1)\n",
    "\n",
    "for i in range(i, n+i):\n",
    "    x = int(input())\n",
    "    arr[i] = x\n",
    "    update(i,x)\n",
    "\n",
    "for i in range(m + k):\n",
    "    a,b,c = map(int, input().split())\n",
    "    # update 연산인 경우\n",
    "    if a == 1:\n",
    "        update(b,c - arr[b])\n",
    "        arr[b] = c\n",
    "    # 구간 합(interval_sum) 연산인 경우\n",
    "    else:\n",
    "        print(interval_sum(b,c))\n"
   ]
  },
  {
   "cell_type": "code",
   "execution_count": null,
   "metadata": {},
   "outputs": [],
   "source": [
    "# 정렬 알고리즘"
   ]
  },
  {
   "cell_type": "code",
   "execution_count": null,
   "metadata": {},
   "outputs": [],
   "source": [
    "# 선택 정렬\n",
    "\n",
    "# 처리안된 데이터 중 가장 작은 데이터를 선택해 맨 앞 데이터와 바꿈"
   ]
  },
  {
   "cell_type": "code",
   "execution_count": 51,
   "metadata": {},
   "outputs": [
    {
     "name": "stdout",
     "output_type": "stream",
     "text": [
      "[0, 1, 2, 3, 4, 5, 6, 7, 8, 9]\n"
     ]
    }
   ],
   "source": [
    "array = [7,5,9,0,3,1,6,2,4,8]\n",
    "for i in range(len(array)):\n",
    "    min_index = i #가장 작원 원소의 인덱스\n",
    "    for j in range(i + 1, len(array)):\n",
    "        if array[min_index] > array[j]:\n",
    "            min_index = j\n",
    "    array[i], array[min_index] = array[min_index], array[i] #스와프\n",
    "\n",
    "print(array)\n",
    "\n",
    "\n"
   ]
  },
  {
   "cell_type": "code",
   "execution_count": null,
   "metadata": {},
   "outputs": [],
   "source": [
    "#선택 정렬의 시간 복잡도\n",
    "\n",
    "#N번만큼 가장 작은 수를 찾아 맨 앞으로 보내야됨.\n",
    "#전체 연산 횟수 : N + (N-1) + (N-2) + ... + 2 = (N^2 + N - 2) / 2 = O(N^2)"
   ]
  },
  {
   "cell_type": "code",
   "execution_count": null,
   "metadata": {},
   "outputs": [],
   "source": [
    "# 삽입 정렬: 처리안된 데이터를 하나씩 골라 적절한 위치에 삽입"
   ]
  },
  {
   "cell_type": "code",
   "execution_count": 52,
   "metadata": {},
   "outputs": [
    {
     "name": "stdout",
     "output_type": "stream",
     "text": [
      "[0, 1, 2, 3, 4, 5, 6, 7, 8, 9]\n"
     ]
    }
   ],
   "source": [
    "array = [7,5,9,0,3,1,6,2,4,8]\n",
    "for i in range(1,len(array)): # 2번째 원소부터 시작 (5)\n",
    "    for j in range(i,0,-1): # 인덱스 i부터 1까지 1씩 감소하며 반복 , j = 삽입하고자 하는 원소의 위치\n",
    "        if array[j] < array[j-1]:\n",
    "            array[j],array[j-1] = array[j-1],array[j] # 스와프\n",
    "        else:\n",
    "            break # 자기보다 작은 데이터면 걍 그 위치서 멈춤.\n",
    "print(array)"
   ]
  },
  {
   "cell_type": "code",
   "execution_count": null,
   "metadata": {},
   "outputs": [],
   "source": [
    "#삽입 정렬의 시간 복잡도 = O(N^2) , 선택정렬처럼 이중포문 사용\n",
    "#거의 정렬된 상태면 매우 빠르게 동작"
   ]
  },
  {
   "cell_type": "code",
   "execution_count": 53,
   "metadata": {},
   "outputs": [],
   "source": [
    "# 퀵 정렬 : 기준 데이터 설정하고, 그 기준보다 큰 데이터와 작은 데이터 위치를 바꿈\n",
    "\n",
    "# 일반적 상황서 가장 많이 씀, 표준 정렬 라이브러리의 근간\n",
    "# 기본적으로는 : 첫번째 데이터를 기준 데이터(Pivot)로 설정\n",
    "\n",
    "# 평균의 경우 O(NlogN) 의 시간 복잡도\n",
    "# 최악의 경우 O(N^2)  ex)이미 정렬된 베열\n"
   ]
  },
  {
   "cell_type": "code",
   "execution_count": 6,
   "metadata": {},
   "outputs": [
    {
     "name": "stdout",
     "output_type": "stream",
     "text": [
      "[0, 1, 2, 3, 4, 5, 6, 7, 8, 9]\n"
     ]
    }
   ],
   "source": [
    "array = [7,5,9,0,3,1,6,2,4,8]\n",
    "def quick_sort(array, start, end):\n",
    "    if start >= end: # 원소 1개일 땐 종료\n",
    "        return\n",
    "    pivot = start # 피벗은 첫 번쨰 원소\n",
    "    left = start +1\n",
    "    right = end\n",
    "    while(left <= right):\n",
    "        # 피벗보다 큰 데이터 찾을 때까지 반복\n",
    "        while(left <= end and array[left] <= array[pivot]):\n",
    "            left += 1\n",
    "        # 피벗보다 작은 데이터 찾을 때까지 반복\n",
    "        while(right > start and array[right] >= array[pivot]):\n",
    "            right -= 1\n",
    "        if (left > right): # 엇갈렸다면 작은 데이터와 피벗을 교체\n",
    "            array[right], array[pivot] = array[pivot], array[right]\n",
    "        else: #안엇갈렸으면 작은 데이터와 큰 데이터를 교체\n",
    "            array[left], array[right] = array[right], array[left]\n",
    "    # 분할 이후 왼쪽과 오른쪽 부분에 대해 각각 정렬 수행\n",
    "    quick_sort(array, start, right-1)\n",
    "    quick_sort(array, right+1, end)\n",
    "\n",
    "quick_sort(array, 0 , len(array) -1)\n",
    "print(array) "
   ]
  },
  {
   "cell_type": "code",
   "execution_count": 3,
   "metadata": {},
   "outputs": [
    {
     "name": "stdout",
     "output_type": "stream",
     "text": [
      "[0, 1, 2, 3, 4, 5, 6, 7, 8, 9]\n"
     ]
    }
   ],
   "source": [
    "# 단순화\n",
    "array = [7,5,9,0,3,1,6,2,4,8]\n",
    "def quick_sort(array):\n",
    "    # 리스트가 하나 이하의 원소만 담고있으면 종료\n",
    "    if len(array) <= 1:\n",
    "        return array\n",
    "    pivot = array[0] # 피벗은 첫번쨰 원소\n",
    "    tail = array[1:] # 피벗을 제외한 리스트\n",
    "\n",
    "    left_side = [x for x in tail if x <= pivot] # 분할된 왼쪽 부분\n",
    "    right_side = [x for x in tail if x > pivot] # 분할된 오른쪽 부분\n",
    "\n",
    "    # 분할 이후 왼쪽과 오른쪽 부분에서 각각 정렬 수행하고, 전체 리스트 반환\n",
    "    return quick_sort(left_side) + [pivot] + quick_sort(right_side)\n",
    "\n",
    "print(quick_sort(array))"
   ]
  },
  {
   "cell_type": "code",
   "execution_count": null,
   "metadata": {},
   "outputs": [],
   "source": [
    "# 계수 정렬\n",
    "\n",
    "# 특정 조건일 때만 되지만 매우 빠름\n",
    "# 정수 형태로 표현 가능할 때만 사용 가능\n",
    "# 데이터 개수: N , 데이터 중 최대값 K -> 최악의 경우 수행시간 O(N + K) 보장."
   ]
  },
  {
   "cell_type": "code",
   "execution_count": 9,
   "metadata": {},
   "outputs": [
    {
     "name": "stdout",
     "output_type": "stream",
     "text": [
      "0 0 1 1 2 2 3 4 5 5 6 7 8 9 9 "
     ]
    }
   ],
   "source": [
    "# 모든 원소의 값이 0보다 크거나 같다고 가정\n",
    "array = [7,5,9,0,3,1,6,2,9,1,4,8,0,5,2]\n",
    "# 모든 범위를 포함하는 리스트 선언 (모든 값 0으로 초기화)\n",
    "count = [0] * (max(array) + 1) #0부터 시작하기에 1 더함.\n",
    "\n",
    "for i in range(len(array)):\n",
    "    count[array[i]] += 1 # 각 데이터에 해당되는 인덱스의 값 1씩 증가\n",
    "    \n",
    "for i in range(len(count)): # i는 0~9\n",
    "    for j in range(count[i]):\n",
    "        print(i, end =' ') # 등장한 횟수만큼 인덱스 출력"
   ]
  },
  {
   "cell_type": "code",
   "execution_count": null,
   "metadata": {},
   "outputs": [],
   "source": [
    "# 계수 정렬의 시간&공간 복잡도는O(N + K)이다.\n",
    "# 경우에 따라 심각한 비효율성 초례 ex) 0, 999 2개의 원소만 있을 때 1000개만큼의 원소 담긴 데이터 만들어야 함.\n",
    "# 동일한 값 여러 개 등장하는 데이터일 때 효과적 ex) 100점 맞은 학생 여럿일 수 있어서 성적같은거 효과적."
   ]
  }
 ],
 "metadata": {
  "kernelspec": {
   "display_name": "base",
   "language": "python",
   "name": "python3"
  },
  "language_info": {
   "codemirror_mode": {
    "name": "ipython",
    "version": 3
   },
   "file_extension": ".py",
   "mimetype": "text/x-python",
   "name": "python",
   "nbconvert_exporter": "python",
   "pygments_lexer": "ipython3",
   "version": "3.9.13"
  },
  "orig_nbformat": 4,
  "vscode": {
   "interpreter": {
    "hash": "30baee32c445b56b5bebd971439750611d62fad669ff493377e475030ea087db"
   }
  }
 },
 "nbformat": 4,
 "nbformat_minor": 2
}
