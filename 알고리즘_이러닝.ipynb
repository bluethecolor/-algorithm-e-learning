{
 "cells": [
  {
   "cell_type": "code",
   "execution_count": 1,
   "metadata": {},
   "outputs": [],
   "source": [
    "import numpy as np\n",
    "import pandas as pd\n",
    "import matplotlib.pyplot as plt"
   ]
  },
  {
   "cell_type": "code",
   "execution_count": null,
   "metadata": {},
   "outputs": [],
   "source": [
    "# statck 구현 예제"
   ]
  },
  {
   "cell_type": "code",
   "execution_count": 2,
   "metadata": {},
   "outputs": [],
   "source": [
    "stack = []"
   ]
  },
  {
   "cell_type": "code",
   "execution_count": 3,
   "metadata": {},
   "outputs": [
    {
     "name": "stdout",
     "output_type": "stream",
     "text": [
      "[1, 3, 2, 5]\n",
      "[5, 2, 3, 1]\n"
     ]
    }
   ],
   "source": [
    "stack.append(5)\n",
    "stack.append(2)\n",
    "stack.append(3)\n",
    "stack.append(7)\n",
    "stack.pop()\n",
    "stack.append(1)\n",
    "stack.append(4)\n",
    "stack.pop()\n",
    "\n",
    "print(stack[::-1])\n",
    "print(stack)\n"
   ]
  },
  {
   "cell_type": "code",
   "execution_count": null,
   "metadata": {},
   "outputs": [],
   "source": [
    "# 큐 자료구조"
   ]
  },
  {
   "cell_type": "code",
   "execution_count": 30,
   "metadata": {},
   "outputs": [],
   "source": [
    "from collections import deque"
   ]
  },
  {
   "cell_type": "code",
   "execution_count": 31,
   "metadata": {},
   "outputs": [],
   "source": [
    "queue = deque()"
   ]
  },
  {
   "cell_type": "code",
   "execution_count": 32,
   "metadata": {},
   "outputs": [
    {
     "name": "stdout",
     "output_type": "stream",
     "text": [
      "deque([3, 7, 1, 4])\n",
      "deque([3, 7, 1, 4])\n"
     ]
    }
   ],
   "source": [
    "queue.append(5)\n",
    "queue.append(2)\n",
    "queue.append(3)\n",
    "queue.append(7)\n",
    "queue.popleft()\n",
    "queue.append(1)\n",
    "queue.append(4)\n",
    "queue.popleft()\n",
    "\n",
    "print(queue) #먼더 들어온 순서대로\n",
    "queue.reverse\n",
    "print(queue) #나중에 들어온 원소부터"
   ]
  },
  {
   "cell_type": "code",
   "execution_count": 33,
   "metadata": {},
   "outputs": [],
   "source": [
    "#우선순위 큐\n",
    "#추출되는 데이터 : 가장 우선순위가 높은 데이터\n",
    "\n",
    "#단순 리스트이용 : \n",
    "#힙 이용\n"
   ]
  },
  {
   "cell_type": "code",
   "execution_count": null,
   "metadata": {},
   "outputs": [],
   "source": [
    "#힙의 특징\n",
    "\n",
    "#항상 루트 노드를 제거\n",
    "#최소 힙 : 루트가 가장 작은 값 가짐. 작은 데이터 우선적 제거\n",
    "#최대 힙 : 루트가 가장 큰 값 가짐. 큰 데이터 우선적 제거"
   ]
  },
  {
   "cell_type": "code",
   "execution_count": null,
   "metadata": {},
   "outputs": [],
   "source": [
    "# Min-Heapify() : 최소 힙으로 맞춰줌.\n",
    "\n",
    "# 상향식\n",
    "# 새로운 원소 삽입시, O(logN)의 시간 복잡도로 힙 성질 유지 가능\n",
    "# 원소 제거시, 동일"
   ]
  },
  {
   "cell_type": "code",
   "execution_count": 6,
   "metadata": {},
   "outputs": [],
   "source": [
    "import sys\n",
    "import heapq\n",
    "input = sys.stdin.readline\n",
    "\n",
    "#파이썬은 기본적으로 min - heap 형태로 동적 -> 오름차순"
   ]
  },
  {
   "cell_type": "code",
   "execution_count": 7,
   "metadata": {},
   "outputs": [
    {
     "ename": "ValueError",
     "evalue": "invalid literal for int() with base 10: ''",
     "output_type": "error",
     "traceback": [
      "\u001b[0;31m---------------------------------------------------------------------------\u001b[0m",
      "\u001b[0;31mValueError\u001b[0m                                Traceback (most recent call last)",
      "\u001b[0;32m/var/folders/rx/pyxnz2c109qgv29mx2rvvtv40000gn/T/ipykernel_1857/2177072959.py\u001b[0m in \u001b[0;36m<module>\u001b[0;34m\u001b[0m\n\u001b[1;32m     10\u001b[0m     \u001b[0;32mreturn\u001b[0m \u001b[0mresult\u001b[0m\u001b[0;34m\u001b[0m\u001b[0;34m\u001b[0m\u001b[0m\n\u001b[1;32m     11\u001b[0m \u001b[0;34m\u001b[0m\u001b[0m\n\u001b[0;32m---> 12\u001b[0;31m \u001b[0mn\u001b[0m \u001b[0;34m=\u001b[0m \u001b[0mint\u001b[0m\u001b[0;34m(\u001b[0m\u001b[0minput\u001b[0m\u001b[0;34m(\u001b[0m\u001b[0;34m)\u001b[0m\u001b[0;34m)\u001b[0m\u001b[0;34m\u001b[0m\u001b[0;34m\u001b[0m\u001b[0m\n\u001b[0m\u001b[1;32m     13\u001b[0m \u001b[0marr\u001b[0m \u001b[0;34m=\u001b[0m \u001b[0;34m[\u001b[0m\u001b[0;34m]\u001b[0m\u001b[0;34m\u001b[0m\u001b[0;34m\u001b[0m\u001b[0m\n\u001b[1;32m     14\u001b[0m \u001b[0;34m\u001b[0m\u001b[0m\n",
      "\u001b[0;31mValueError\u001b[0m: invalid literal for int() with base 10: ''"
     ]
    }
   ],
   "source": [
    "def heapsort(iterable):\n",
    "    h = []\n",
    "    result = []\n",
    "    # 모든 원소를 차례대로 힙에 삽임\n",
    "    for value in iterable:\n",
    "        heapq.heappush(h, value)\n",
    "    #힙에 삽입된 모든 원소를 차례대로 꺼내어 담기\n",
    "    for i in range(len(h)):\n",
    "        result.append(heapq.heappop(h))\n",
    "    return result\n",
    "\n",
    "n = int(input())\n",
    "arr = []\n",
    "\n",
    "for i in range(n):\n",
    "    arr.append(int(input()))\n",
    "\n",
    "res = heapsort(arr)\n",
    "\n",
    "for i in range(n):\n",
    "    print(res[i])\n"
   ]
  },
  {
   "cell_type": "code",
   "execution_count": null,
   "metadata": {},
   "outputs": [],
   "source": []
  },
  {
   "cell_type": "code",
   "execution_count": null,
   "metadata": {},
   "outputs": [],
   "source": [
    "# 트리 : 가계도와 같은 계층적인 구조 표현할 떄\n",
    "\n",
    "# 루트 노드/ 단말 노드\n",
    "# 깊이 / 높이: 깊이 중 최대값 / 차수 : 각 노드의 (자식 방향) 간선 개수\n",
    "\n",
    "# 전체 간선 개수: N - 1 (트리의 크기: N)\n"
   ]
  },
  {
   "cell_type": "code",
   "execution_count": null,
   "metadata": {},
   "outputs": [],
   "source": [
    "# 이진 탐색 트리\n",
    "\n",
    "# 왼쪽 자식 노드 값 < 부모 노드 값\n",
    "# 오른쪽 자식 노드 값 > 부모 노드 값"
   ]
  },
  {
   "cell_type": "code",
   "execution_count": null,
   "metadata": {},
   "outputs": [],
   "source": [
    "# 트리의 순회 : 포함된 노드를 한번씩 방문\n",
    "\n",
    "# 전위 순회 : 루트 먼저 방먼\n",
    "# 중위 순회 : 왼쪽 자식 방문 후 루트 방문\n",
    "# 후위 순회 : 오른쪽 자식 방문 후 루트 방문"
   ]
  },
  {
   "cell_type": "code",
   "execution_count": null,
   "metadata": {},
   "outputs": [],
   "source": [
    "# 트리의 순회 구현 예제\n",
    "\n",
    "# 추후 추가 예정"
   ]
  },
  {
   "cell_type": "code",
   "execution_count": null,
   "metadata": {},
   "outputs": [],
   "source": [
    "# 바이너리 인덱스 트리 : 2진법 인덱스 구조 활용해 구간 합 효율적 계산\n",
    "\n",
    "# 0 이 아닌 마지막 비트 찾기 : k & -k를 계산하여 확인"
   ]
  },
  {
   "cell_type": "code",
   "execution_count": 8,
   "metadata": {},
   "outputs": [
    {
     "name": "stdout",
     "output_type": "stream",
     "text": [
      "0 의 마지막 비트: 0\n",
      "1 의 마지막 비트: 1\n",
      "2 의 마지막 비트: 2\n",
      "3 의 마지막 비트: 1\n",
      "4 의 마지막 비트: 4\n",
      "5 의 마지막 비트: 1\n",
      "6 의 마지막 비트: 2\n",
      "7 의 마지막 비트: 1\n",
      "8 의 마지막 비트: 8\n"
     ]
    }
   ],
   "source": [
    "n = 8\n",
    "\n",
    "for i in range(n+1):\n",
    "    print(i, '의 마지막 비트:', (i & -i))"
   ]
  },
  {
   "cell_type": "code",
   "execution_count": null,
   "metadata": {},
   "outputs": [],
   "source": [
    "# 트리 구조 만들기 : 0이 아닌 마지막 비트 = 내가 저장하고 있는 값들의 개수\n",
    "\n",
    "# 16 -> 0이 아닌 마지막 비트 값 = 16 -> 1~16까지의 값들의 합을 담고 있음\n",
    "# 8 -> 0이 아닌 마지막 비트 값 = 8 -> 1~8까지의 값들의 합을 담고 있음\n",
    "# 7 -> 0이 아닌 마지막 비트 값 = 1 -> 7의 자기 자신의 정보만 담고 있음"
   ]
  },
  {
   "cell_type": "code",
   "execution_count": null,
   "metadata": {},
   "outputs": [],
   "source": [
    "# 특정 값을 변경할 때 : 0이 아닌 마지막 비트만큼 더하면서 구간들의 값을 변경\n",
    "\n",
    "# 3이 바뀌었을 떄 : 3은 0이 아닌 마지막 비트는 1이므로, 1칸 이동해서 4에 대한 값을 바꾸고 -> 8에 대한 값 바꾸고 -> 16에 대한 값 바꿈\n",
    "# -> 3, 4, 8 ,16 으로 총 4번 업데이트 됨"
   ]
  },
  {
   "cell_type": "code",
   "execution_count": null,
   "metadata": {},
   "outputs": [],
   "source": [
    "# 1부터 N까지 누적 합 구하기: 0이 아닌 마지막 비트만큼 매번 빼면서 구간들의 합 계산\n",
    "\n",
    "# 1~11 : 11은 11 하나의 값만 담고 있고 -> 1만큼 빼서 9~10번째까지의 값의 합 담고 있는 index 10의 값 더해줌 -> 2칸 이동해서 1~8까지 담고 있는 8의 값 더해줌."
   ]
  },
  {
   "cell_type": "markdown",
   "metadata": {},
   "source": []
  },
  {
   "cell_type": "code",
   "execution_count": 50,
   "metadata": {},
   "outputs": [
    {
     "ename": "ValueError",
     "evalue": "not enough values to unpack (expected 3, got 0)",
     "output_type": "error",
     "traceback": [
      "\u001b[0;31m---------------------------------------------------------------------------\u001b[0m",
      "\u001b[0;31mValueError\u001b[0m                                Traceback (most recent call last)",
      "\u001b[0;32m/var/folders/rx/pyxnz2c109qgv29mx2rvvtv40000gn/T/ipykernel_1767/300333393.py\u001b[0m in \u001b[0;36m<module>\u001b[0;34m\u001b[0m\n\u001b[1;32m      3\u001b[0m \u001b[0;34m\u001b[0m\u001b[0m\n\u001b[1;32m      4\u001b[0m \u001b[0;31m# 데이터의 개수(n),변경횟수(m),구간 합 계산 횟수(k)\u001b[0m\u001b[0;34m\u001b[0m\u001b[0;34m\u001b[0m\u001b[0m\n\u001b[0;32m----> 5\u001b[0;31m \u001b[0mn\u001b[0m\u001b[0;34m,\u001b[0m\u001b[0mm\u001b[0m\u001b[0;34m,\u001b[0m\u001b[0mk\u001b[0m\u001b[0;34m=\u001b[0m \u001b[0mmap\u001b[0m\u001b[0;34m(\u001b[0m\u001b[0mint\u001b[0m\u001b[0;34m,\u001b[0m \u001b[0minput\u001b[0m\u001b[0;34m(\u001b[0m\u001b[0;34m)\u001b[0m\u001b[0;34m.\u001b[0m\u001b[0msplit\u001b[0m\u001b[0;34m(\u001b[0m\u001b[0;34m)\u001b[0m\u001b[0;34m)\u001b[0m\u001b[0;34m\u001b[0m\u001b[0;34m\u001b[0m\u001b[0m\n\u001b[0m",
      "\u001b[0;31mValueError\u001b[0m: not enough values to unpack (expected 3, got 0)"
     ]
    }
   ],
   "source": [
    "import sys\n",
    "input = sys.stdin.readline\n",
    "\n",
    "# 데이터의 개수(n),변경횟수(m),구간 합 계산 횟수(k)\n",
    "n,m,k= map(int, input().split())"
   ]
  },
  {
   "cell_type": "code",
   "execution_count": 47,
   "metadata": {},
   "outputs": [],
   "source": [
    "# 전체 데이터의 개수는 최대 1,000,000개\n",
    "arr = [0]*(n+1)\n",
    "tree = [0]*(n+1)"
   ]
  },
  {
   "cell_type": "code",
   "execution_count": 40,
   "metadata": {},
   "outputs": [],
   "source": [
    "# i번째 수까지의 누적 합을 계산하는 함수\n",
    "def prefix_sum(i):\n",
    "    result = 0\n",
    "    while i >0 :\n",
    "        result += tree[i]\n",
    "        # 0이 아닌 마지막 비트만큼 뺴가면서 이동\n",
    "        i -= (i & -i)\n",
    "    return result"
   ]
  },
  {
   "cell_type": "code",
   "execution_count": 46,
   "metadata": {},
   "outputs": [],
   "source": [
    "# i번쨰 수를 dif만큼 더하는 함수\n",
    "def update(i, dif):\n",
    "    while i <= n:\n",
    "        tree[i] += dif\n",
    "        i += (i & -i)"
   ]
  },
  {
   "cell_type": "code",
   "execution_count": 49,
   "metadata": {},
   "outputs": [
    {
     "ename": "ValueError",
     "evalue": "invalid literal for int() with base 10: ''",
     "output_type": "error",
     "traceback": [
      "\u001b[0;31m---------------------------------------------------------------------------\u001b[0m",
      "\u001b[0;31mValueError\u001b[0m                                Traceback (most recent call last)",
      "\u001b[0;32m/var/folders/rx/pyxnz2c109qgv29mx2rvvtv40000gn/T/ipykernel_1767/1110278833.py\u001b[0m in \u001b[0;36m<module>\u001b[0;34m\u001b[0m\n\u001b[1;32m      4\u001b[0m \u001b[0;34m\u001b[0m\u001b[0m\n\u001b[1;32m      5\u001b[0m \u001b[0;32mfor\u001b[0m \u001b[0mi\u001b[0m \u001b[0;32min\u001b[0m \u001b[0mrange\u001b[0m\u001b[0;34m(\u001b[0m\u001b[0mi\u001b[0m\u001b[0;34m,\u001b[0m \u001b[0mn\u001b[0m\u001b[0;34m+\u001b[0m\u001b[0mi\u001b[0m\u001b[0;34m)\u001b[0m\u001b[0;34m:\u001b[0m\u001b[0;34m\u001b[0m\u001b[0;34m\u001b[0m\u001b[0m\n\u001b[0;32m----> 6\u001b[0;31m     \u001b[0mx\u001b[0m \u001b[0;34m=\u001b[0m \u001b[0mint\u001b[0m\u001b[0;34m(\u001b[0m\u001b[0minput\u001b[0m\u001b[0;34m(\u001b[0m\u001b[0;34m)\u001b[0m\u001b[0;34m)\u001b[0m\u001b[0;34m\u001b[0m\u001b[0;34m\u001b[0m\u001b[0m\n\u001b[0m\u001b[1;32m      7\u001b[0m     \u001b[0marr\u001b[0m\u001b[0;34m[\u001b[0m\u001b[0mi\u001b[0m\u001b[0;34m]\u001b[0m \u001b[0;34m=\u001b[0m \u001b[0mx\u001b[0m\u001b[0;34m\u001b[0m\u001b[0;34m\u001b[0m\u001b[0m\n\u001b[1;32m      8\u001b[0m     \u001b[0mupdate\u001b[0m\u001b[0;34m(\u001b[0m\u001b[0mi\u001b[0m\u001b[0;34m,\u001b[0m\u001b[0mx\u001b[0m\u001b[0;34m)\u001b[0m\u001b[0;34m\u001b[0m\u001b[0;34m\u001b[0m\u001b[0m\n",
      "\u001b[0;31mValueError\u001b[0m: invalid literal for int() with base 10: ''"
     ]
    }
   ],
   "source": [
    "# start부터 end까지의 구간 합 계산하는 함수\n",
    "def interval_sum(start, end):\n",
    "    return prefix_sum(end) - prefix_sum(start -1)\n",
    "\n",
    "for i in range(i, n+i):\n",
    "    x = int(input())\n",
    "    arr[i] = x\n",
    "    update(i,x)\n",
    "\n",
    "for i in range(m + k):\n",
    "    a,b,c = map(int, input().split())\n",
    "    # update 연산인 경우\n",
    "    if a == 1:\n",
    "        update(b,c - arr[b])\n",
    "        arr[b] = c\n",
    "    # 구간 합(interval_sum) 연산인 경우\n",
    "    else:\n",
    "        print(interval_sum(b,c))\n"
   ]
  },
  {
   "cell_type": "code",
   "execution_count": null,
   "metadata": {},
   "outputs": [],
   "source": [
    "# 정렬 알고리즘"
   ]
  },
  {
   "cell_type": "code",
   "execution_count": null,
   "metadata": {},
   "outputs": [],
   "source": [
    "# 선택 정렬\n",
    "\n",
    "# 처리안된 데이터 중 가장 작은 데이터를 선택해 맨 앞 데이터와 바꿈"
   ]
  },
  {
   "cell_type": "code",
   "execution_count": 51,
   "metadata": {},
   "outputs": [
    {
     "name": "stdout",
     "output_type": "stream",
     "text": [
      "[0, 1, 2, 3, 4, 5, 6, 7, 8, 9]\n"
     ]
    }
   ],
   "source": [
    "array = [7,5,9,0,3,1,6,2,4,8]\n",
    "for i in range(len(array)):\n",
    "    min_index = i #가장 작원 원소의 인덱스\n",
    "    for j in range(i + 1, len(array)):\n",
    "        if array[min_index] > array[j]:\n",
    "            min_index = j\n",
    "    array[i], array[min_index] = array[min_index], array[i] #스와프\n",
    "\n",
    "print(array)\n",
    "\n",
    "\n"
   ]
  },
  {
   "cell_type": "code",
   "execution_count": null,
   "metadata": {},
   "outputs": [],
   "source": [
    "#선택 정렬의 시간 복잡도\n",
    "\n",
    "#N번만큼 가장 작은 수를 찾아 맨 앞으로 보내야됨.\n",
    "#전체 연산 횟수 : N + (N-1) + (N-2) + ... + 2 = (N^2 + N - 2) / 2 = O(N^2)"
   ]
  },
  {
   "cell_type": "code",
   "execution_count": null,
   "metadata": {},
   "outputs": [],
   "source": [
    "# 삽입 정렬: 처리안된 데이터를 하나씩 골라 적절한 위치에 삽입"
   ]
  },
  {
   "cell_type": "code",
   "execution_count": 52,
   "metadata": {},
   "outputs": [
    {
     "name": "stdout",
     "output_type": "stream",
     "text": [
      "[0, 1, 2, 3, 4, 5, 6, 7, 8, 9]\n"
     ]
    }
   ],
   "source": [
    "array = [7,5,9,0,3,1,6,2,4,8]\n",
    "for i in range(1,len(array)): # 2번째 원소부터 시작 (5)\n",
    "    for j in range(i,0,-1): # 인덱스 i부터 1까지 1씩 감소하며 반복 , j = 삽입하고자 하는 원소의 위치\n",
    "        if array[j] < array[j-1]:\n",
    "            array[j],array[j-1] = array[j-1],array[j] # 스와프\n",
    "        else:\n",
    "            break # 자기보다 작은 데이터면 걍 그 위치서 멈춤.\n",
    "print(array)"
   ]
  },
  {
   "cell_type": "code",
   "execution_count": null,
   "metadata": {},
   "outputs": [],
   "source": [
    "#삽입 정렬의 시간 복잡도 = O(N^2) , 선택정렬처럼 이중포문 사용\n",
    "#거의 정렬된 상태면 매우 빠르게 동작"
   ]
  },
  {
   "cell_type": "code",
   "execution_count": 53,
   "metadata": {},
   "outputs": [],
   "source": [
    "# 퀵 정렬 : 기준 데이터 설정하고, 그 기준보다 큰 데이터와 작은 데이터 위치를 바꿈\n",
    "\n",
    "# 일반적 상황서 가장 많이 씀, 표준 정렬 라이브러리의 근간\n",
    "# 기본적으로는 : 첫번째 데이터를 기준 데이터(Pivot)로 설정\n",
    "\n",
    "# 평균의 경우 O(NlogN) 의 시간 복잡도\n",
    "# 최악의 경우 O(N^2)  ex)이미 정렬된 베열\n"
   ]
  },
  {
   "cell_type": "code",
   "execution_count": 6,
   "metadata": {},
   "outputs": [
    {
     "name": "stdout",
     "output_type": "stream",
     "text": [
      "[0, 1, 2, 3, 4, 5, 6, 7, 8, 9]\n"
     ]
    }
   ],
   "source": [
    "array = [7,5,9,0,3,1,6,2,4,8]\n",
    "def quick_sort(array, start, end):\n",
    "    if start >= end: # 원소 1개일 땐 종료\n",
    "        return\n",
    "    pivot = start # 피벗은 첫 번쨰 원소\n",
    "    left = start +1\n",
    "    right = end\n",
    "    while(left <= right):\n",
    "        # 피벗보다 큰 데이터 찾을 때까지 반복\n",
    "        while(left <= end and array[left] <= array[pivot]):\n",
    "            left += 1\n",
    "        # 피벗보다 작은 데이터 찾을 때까지 반복\n",
    "        while(right > start and array[right] >= array[pivot]):\n",
    "            right -= 1\n",
    "        if (left > right): # 엇갈렸다면 작은 데이터와 피벗을 교체\n",
    "            array[right], array[pivot] = array[pivot], array[right]\n",
    "        else: #안엇갈렸으면 작은 데이터와 큰 데이터를 교체\n",
    "            array[left], array[right] = array[right], array[left]\n",
    "    # 분할 이후 왼쪽과 오른쪽 부분에 대해 각각 정렬 수행\n",
    "    quick_sort(array, start, right-1)\n",
    "    quick_sort(array, right+1, end)\n",
    "\n",
    "quick_sort(array, 0 , len(array) -1)\n",
    "print(array) "
   ]
  },
  {
   "cell_type": "code",
   "execution_count": 3,
   "metadata": {},
   "outputs": [
    {
     "name": "stdout",
     "output_type": "stream",
     "text": [
      "[0, 1, 2, 3, 4, 5, 6, 7, 8, 9]\n"
     ]
    }
   ],
   "source": [
    "# 단순화\n",
    "array = [7,5,9,0,3,1,6,2,4,8]\n",
    "def quick_sort(array):\n",
    "    # 리스트가 하나 이하의 원소만 담고있으면 종료\n",
    "    if len(array) <= 1:\n",
    "        return array\n",
    "    pivot = array[0] # 피벗은 첫번쨰 원소\n",
    "    tail = array[1:] # 피벗을 제외한 리스트\n",
    "\n",
    "    left_side = [x for x in tail if x <= pivot] # 분할된 왼쪽 부분\n",
    "    right_side = [x for x in tail if x > pivot] # 분할된 오른쪽 부분\n",
    "\n",
    "    # 분할 이후 왼쪽과 오른쪽 부분에서 각각 정렬 수행하고, 전체 리스트 반환\n",
    "    return quick_sort(left_side) + [pivot] + quick_sort(right_side)\n",
    "\n",
    "print(quick_sort(array))"
   ]
  },
  {
   "cell_type": "code",
   "execution_count": null,
   "metadata": {},
   "outputs": [],
   "source": [
    "# 계수 정렬\n",
    "\n",
    "# 특정 조건일 때만 되지만 매우 빠름\n",
    "# 정수 형태로 표현 가능할 때만 사용 가능\n",
    "# 데이터 개수: N , 데이터 중 최대값 K -> 최악의 경우 수행시간 O(N + K) 보장."
   ]
  },
  {
   "cell_type": "code",
   "execution_count": 9,
   "metadata": {},
   "outputs": [
    {
     "name": "stdout",
     "output_type": "stream",
     "text": [
      "0 0 1 1 2 2 3 4 5 5 6 7 8 9 9 "
     ]
    }
   ],
   "source": [
    "# 모든 원소의 값이 0보다 크거나 같다고 가정\n",
    "array = [7,5,9,0,3,1,6,2,9,1,4,8,0,5,2]\n",
    "# 모든 범위를 포함하는 리스트 선언 (모든 값 0으로 초기화)\n",
    "count = [0] * (max(array) + 1) #0부터 시작하기에 1 더함.\n",
    "\n",
    "for i in range(len(array)):\n",
    "    count[array[i]] += 1 # 각 데이터에 해당되는 인덱스의 값 1씩 증가\n",
    "    \n",
    "for i in range(len(count)): # i는 0~9\n",
    "    for j in range(count[i]):\n",
    "        print(i, end =' ') # 등장한 횟수만큼 인덱스 출력"
   ]
  },
  {
   "cell_type": "code",
   "execution_count": null,
   "metadata": {},
   "outputs": [],
   "source": [
    "# 계수 정렬의 시간&공간 복잡도는O(N + K)이다.\n",
    "# 경우에 따라 심각한 비효율성 초례 ex) 0, 999 2개의 원소만 있을 때 1000개만큼의 원소 담긴 데이터 만들어야 함.\n",
    "# 동일한 값 여러 개 등장하는 데이터일 때 효과적 ex) 100점 맞은 학생 여럿일 수 있어서 성적같은거 효과적."
   ]
  },
  {
   "cell_type": "code",
   "execution_count": 3,
   "metadata": {},
   "outputs": [
    {
     "name": "stdout",
     "output_type": "stream",
     "text": [
      "선택 정렬 성능 측정: 4.943965196609497\n"
     ]
    }
   ],
   "source": [
    "#선택 정렬과 기본 정렬 라이브러리 수행 시간 비교\n",
    "\n",
    "from random import randint\n",
    "import time\n",
    "\n",
    "# 배열에 10,000개 정수 삽입\n",
    "array = []\n",
    "for _ in range(10000):\n",
    "    # 1부터 100 사이의 랜덤한 정수\n",
    "    array.append(randint(1,100))\n",
    "\n",
    "# 선택 정렬 프로그램 성능 측정\n",
    "start_time = time.time()\n",
    "\n",
    "# 선택 정렬 프로그램 소스코드\n",
    "for i in range(len(array)):\n",
    "    min_index = i # 가장 작은 원소의 인덱스\n",
    "    for j in range(i+1, len(array)):\n",
    "        if array[min_index] > array[j]:\n",
    "            min_index = j\n",
    "    array[i], array[min_index] = array[min_index], array[i]\n",
    "\n",
    "# 측정 종료\n",
    "end_time = time.time()\n",
    "# 수행 시간 출력\n",
    "print('선택 정렬 성능 측정:', end_time - start_time)"
   ]
  },
  {
   "cell_type": "code",
   "execution_count": 4,
   "metadata": {},
   "outputs": [
    {
     "name": "stdout",
     "output_type": "stream",
     "text": [
      "기본 정렬 라이브러리 성능 측정: 0.0008788108825683594\n"
     ]
    }
   ],
   "source": [
    "# 배열을 다시 무작위 데이터로 초기화\n",
    "array = []\n",
    "for _ in range(10000):\n",
    "    # 1부터 100 사이의 랜덤한 정수\n",
    "    array.append(randint(1,100))\n",
    "\n",
    "# 기본 정렬 라이브러리 성능 측정\n",
    "start_time = time.time()\n",
    "\n",
    "# 기본 정렬 라이브러리 사용\n",
    "array.sort()\n",
    "\n",
    "# 측정 종료\n",
    "end_time = time.time()\n",
    "# 수행 시간 출력\n",
    "print('기본 정렬 라이브러리 성능 측정:', end_time - start_time)\n"
   ]
  },
  {
   "cell_type": "code",
   "execution_count": null,
   "metadata": {},
   "outputs": [],
   "source": [
    "# 파이썬 기본 라이브러리는 최악의 경우에도 O(NlogN)의 복잡도를 보장 ----> 죽 훨씬 짧음"
   ]
  },
  {
   "cell_type": "code",
   "execution_count": null,
   "metadata": {},
   "outputs": [],
   "source": []
  },
  {
   "cell_type": "code",
   "execution_count": null,
   "metadata": {},
   "outputs": [],
   "source": [
    "# 두 배열의 원소 교체"
   ]
  },
  {
   "cell_type": "code",
   "execution_count": 2,
   "metadata": {},
   "outputs": [],
   "source": [
    "n,k =map(int, input().split()) # n,k 입력받기\n",
    "a = list(map(int, input().split())) # 배열 A의 모든 원소 입력 받기\n",
    "b = list(map(int, input().split())) # 배열 B의 모든 원소 입력 받기\n",
    "\n",
    "a.sort() # 배열 A는 오른차순 정렬\n",
    "b.sort(reverse=True) # 배열 B는 내림차순 정렬 수행\n",
    "\n",
    "for i in range(k): # 첫 인덱스부터 확인하여, 두 배열 최대 k번 비교\n",
    "    # A의 원소가 B 원소보다 작을 경우\n",
    "    if a[i] < b[i]:\n",
    "        # 두 원소를 교체\n",
    "        a[i],b[i] = b[i],a[i]\n",
    "    else: # A의 원소가 B 원소보다 작지 않으면 반복문 탈출\n",
    "        break\n",
    "\n",
    "print(sum(a))\n",
    "\n",
    "\n"
   ]
  },
  {
   "cell_type": "code",
   "execution_count": null,
   "metadata": {},
   "outputs": [],
   "source": [
    "# DFS\n",
    "# 그래프에서 깊은 부분을 우선적으로 탐색\n",
    "# 스택 자료구조를 이용"
   ]
  },
  {
   "cell_type": "code",
   "execution_count": 2,
   "metadata": {},
   "outputs": [
    {
     "name": "stdout",
     "output_type": "stream",
     "text": [
      "1 2 7 6 8 3 4 5 "
     ]
    }
   ],
   "source": [
    "# GFS 메서드 정의\n",
    "def dfs(graph, v, visited):\n",
    "    # 현재 노드를 방문 처리\n",
    "    visited[v] = True\n",
    "    print(v, end = ' ')\n",
    "    # 현재 노드와 연결된 다른 노드를 재귀적으로 방문\n",
    "    for i in graph[v]:\n",
    "        if not visited[i]:\n",
    "            dfs(graph, i, visited)\n",
    "\n",
    "# 각 노드가 연결된 정보를 표현 (2차원 리스트)\n",
    "graph = [\n",
    "        [],\n",
    "        [2,3,8],\n",
    "        [1,7],\n",
    "        [1,4,5],\n",
    "        [3,5],\n",
    "        [3,4],\n",
    "        [7],\n",
    "        [2,6,8],\n",
    "        [1,7]\n",
    "]\n",
    "\n",
    "# 각 노드가 방문된 정보를 표현 (1차원 리스트)\n",
    "visited = [False] * 9\n",
    "\n",
    "# 정의된 DFS 함수 호출\n",
    "dfs(graph, 1, visited)\n"
   ]
  },
  {
   "cell_type": "code",
   "execution_count": null,
   "metadata": {},
   "outputs": [],
   "source": [
    " # BFS \n",
    "# 너비 우선 탐색, 가까운 노드부터 우선적으로 탐색"
   ]
  },
  {
   "cell_type": "code",
   "execution_count": 5,
   "metadata": {},
   "outputs": [
    {
     "name": "stdout",
     "output_type": "stream",
     "text": [
      "1 2 3 8 7 4 5 6 "
     ]
    }
   ],
   "source": [
    " from collections import deque\n",
    "\n",
    "# BFS 메서드 정의\n",
    "def bfs(graph, start, visited):\n",
    "    # 큐(Que) 구현을 위해 deque 라이브러리 사용\n",
    "    queue = deque([start])\n",
    "    # 현재 노드를 방문 처리\n",
    "    visited[start] = True\n",
    "    # 큐가 빌 때까지 반복\n",
    "    while queue:\n",
    "       # 큐에서 하나의 원소를 뽑아 출력하기\n",
    "       v = queue.popleft()  # ---> 가장 먼저 들어온 원소를 꺼냄.\n",
    "       print(v, end = ' ')\n",
    "       # 아직 방문하지 않은 인접한 원소들을 큐에 삽입\n",
    "       for i in graph[v]:\n",
    "           if not visited[i]:\n",
    "               queue.append(i)\n",
    "               visited[i] = True\n",
    "\n",
    "# 각 노드가 연결된 정보를 표현 (2차원 리스트)\n",
    "graph = [\n",
    "        [],\n",
    "        [2,3,8],\n",
    "        [1,7],\n",
    "        [1,4,5],\n",
    "        [3,5],\n",
    "        [3,4],\n",
    "        [7],\n",
    "        [2,6,8],\n",
    "        [1,7]\n",
    "]\n",
    "\n",
    "# 각 노드가 방문된 정보를 표현 (1차원 리스트)\n",
    "visited = [False] * 9\n",
    "\n",
    "# 정의된 DFS 함수 호출\n",
    "bfs(graph, 1, visited)"
   ]
  },
  {
   "cell_type": "code",
   "execution_count": null,
   "metadata": {},
   "outputs": [],
   "source": [
    "# 음류수 얼려먹기"
   ]
  },
  {
   "cell_type": "code",
   "execution_count": 14,
   "metadata": {},
   "outputs": [
    {
     "ename": "IndexError",
     "evalue": "list index out of range",
     "output_type": "error",
     "traceback": [
      "\u001b[0;31m---------------------------------------------------------------------------\u001b[0m",
      "\u001b[0;31mIndexError\u001b[0m                                Traceback (most recent call last)",
      "\u001b[0;32m/var/folders/rx/pyxnz2c109qgv29mx2rvvtv40000gn/T/ipykernel_5539/3437280802.py\u001b[0m in \u001b[0;36m<module>\u001b[0;34m\u001b[0m\n\u001b[1;32m     31\u001b[0m     \u001b[0;32mfor\u001b[0m \u001b[0mj\u001b[0m \u001b[0;32min\u001b[0m \u001b[0mrange\u001b[0m\u001b[0;34m(\u001b[0m\u001b[0mm\u001b[0m\u001b[0;34m)\u001b[0m\u001b[0;34m:\u001b[0m\u001b[0;34m\u001b[0m\u001b[0;34m\u001b[0m\u001b[0m\n\u001b[1;32m     32\u001b[0m         \u001b[0;31m# 현재 위치에서 DFS 수행\u001b[0m\u001b[0;34m\u001b[0m\u001b[0;34m\u001b[0m\u001b[0m\n\u001b[0;32m---> 33\u001b[0;31m         \u001b[0;32mif\u001b[0m \u001b[0mdfs\u001b[0m\u001b[0;34m(\u001b[0m\u001b[0mi\u001b[0m\u001b[0;34m,\u001b[0m\u001b[0mj\u001b[0m\u001b[0;34m)\u001b[0m \u001b[0;34m==\u001b[0m \u001b[0;32mTrue\u001b[0m\u001b[0;34m:\u001b[0m\u001b[0;34m\u001b[0m\u001b[0;34m\u001b[0m\u001b[0m\n\u001b[0m\u001b[1;32m     34\u001b[0m             \u001b[0mresult\u001b[0m \u001b[0;34m+=\u001b[0m \u001b[0;36m1\u001b[0m\u001b[0;34m\u001b[0m\u001b[0;34m\u001b[0m\u001b[0m\n\u001b[1;32m     35\u001b[0m \u001b[0mprint\u001b[0m\u001b[0;34m(\u001b[0m\u001b[0mresult\u001b[0m\u001b[0;34m)\u001b[0m\u001b[0;34m\u001b[0m\u001b[0;34m\u001b[0m\u001b[0m\n",
      "\u001b[0;32m/var/folders/rx/pyxnz2c109qgv29mx2rvvtv40000gn/T/ipykernel_5539/3437280802.py\u001b[0m in \u001b[0;36mdfs\u001b[0;34m(x, y)\u001b[0m\n\u001b[1;32m      4\u001b[0m         \u001b[0;32mreturn\u001b[0m \u001b[0;32mFalse\u001b[0m\u001b[0;34m\u001b[0m\u001b[0;34m\u001b[0m\u001b[0m\n\u001b[1;32m      5\u001b[0m     \u001b[0;31m# 현재 노드를 아직 방문하지 않았다면\u001b[0m\u001b[0;34m\u001b[0m\u001b[0;34m\u001b[0m\u001b[0m\n\u001b[0;32m----> 6\u001b[0;31m     \u001b[0;32mif\u001b[0m \u001b[0mgraph\u001b[0m\u001b[0;34m[\u001b[0m\u001b[0mx\u001b[0m\u001b[0;34m]\u001b[0m\u001b[0;34m[\u001b[0m\u001b[0my\u001b[0m\u001b[0;34m]\u001b[0m \u001b[0;34m==\u001b[0m \u001b[0;36m0\u001b[0m\u001b[0;34m:\u001b[0m\u001b[0;34m\u001b[0m\u001b[0;34m\u001b[0m\u001b[0m\n\u001b[0m\u001b[1;32m      7\u001b[0m         \u001b[0;31m# 해당 노드 방문 처리\u001b[0m\u001b[0;34m\u001b[0m\u001b[0;34m\u001b[0m\u001b[0m\n\u001b[1;32m      8\u001b[0m         \u001b[0mgraph\u001b[0m\u001b[0;34m[\u001b[0m\u001b[0mx\u001b[0m\u001b[0;34m]\u001b[0m\u001b[0;34m[\u001b[0m\u001b[0my\u001b[0m\u001b[0;34m]\u001b[0m \u001b[0;34m=\u001b[0m \u001b[0;36m1\u001b[0m\u001b[0;34m\u001b[0m\u001b[0;34m\u001b[0m\u001b[0m\n",
      "\u001b[0;31mIndexError\u001b[0m: list index out of range"
     ]
    }
   ],
   "source": [
    "def dfs(x,y):\n",
    "    # 주어진 범위를 벗어나는 경우에는 즉시 종료\n",
    "    if x <= -1 or x >= n or y <= -1 or y >= m:\n",
    "        return False\n",
    "    # 현재 노드를 아직 방문하지 않았다면\n",
    "    if graph[x][y] == 0:\n",
    "        # 해당 노드 방문 처리\n",
    "        graph[x][y] = 1\n",
    "        # 상하좌우 위치들 모두 재귀적으로 호출\n",
    "        dfs(x-1, y)\n",
    "        dfs(x, y-1)\n",
    "        dfs(x+1, y)\n",
    "        dfs(x, y+1)\n",
    "        return True\n",
    "    return False    \n",
    "\n",
    "\n",
    "\n",
    "\n",
    "\n",
    "n,m = map(int, input().split())\n",
    "\n",
    "# 2차원 리스트의 맵 정보 입력 받기\n",
    "graph = []\n",
    "for i in range(n):\n",
    "    graph.append(list(map(int, input())))\n",
    "\n",
    "# 모든 노드에 대해 음료수 채우기\n",
    "result = 0\n",
    "for i in range(n):\n",
    "    for j in range(m):\n",
    "        # 현재 위치에서 DFS 수행\n",
    "        if dfs(i,j) == True:\n",
    "            result += 1\n",
    "print(result)\n"
   ]
  },
  {
   "cell_type": "code",
   "execution_count": 2,
   "metadata": {},
   "outputs": [],
   "source": [
    "# 다일익스트라 알고리즘\n",
    "\n",
    "# 특정한 노드에서 출발하여 다른 모든 노드로 가는 최단 경로 계산\n",
    "# 음의 간선 없을 떄 정상적 작동 (현실 세계 도로는 음의 간선 표현 x)\n",
    "# 가장 비용이 적은 노드를 선택 (그리디 알고리즘)\n",
    "\n",
    "# 1. 출발 노드 설정\n",
    "# 2. 최단 거리 테이블 초기화\n",
    "\n",
    "# <반복>\n",
    "# 3. 방문 안한 노드 중 최단 거리 노드 선택\n",
    "# 4. 해당 노드 거쳐 다른 노드 기는 비용 계산해 최단 거리 테이블 경신\n",
    "\n",
    "\n",
    "# 단계를 거치며 한번 처리된 노드의 최단 거리는 고정되어 바뀌지 않음\n",
    "\n",
    "#복잡도 : O(V^2)"
   ]
  },
  {
   "cell_type": "code",
   "execution_count": null,
   "metadata": {},
   "outputs": [],
   "source": [
    "# 우선순위 큐\n",
    "\n",
    "# 우선순위 가장 높은 데이터를 가장 먼저 삭제  (가치가 높은 데이터부터 꺼내서 확인해야하는 경우)\n",
    "\n",
    "#힙\n",
    "# 최소 힙 / 최대 힙  \n",
    "# 복잡도 O(NlogN)"
   ]
  },
  {
   "cell_type": "code",
   "execution_count": 7,
   "metadata": {},
   "outputs": [
    {
     "name": "stdout",
     "output_type": "stream",
     "text": [
      "[0, 1, 2, 3, 4, 5, 6, 7, 8, 9]\n"
     ]
    }
   ],
   "source": [
    "# 최소 힙\n",
    "import heapq\n",
    "# 오른차순 힙 정렬\n",
    "def heapsort(iterable):\n",
    "    h =[]\n",
    "    result = []\n",
    "    # 모든 원소를 차례대로 힙에 삽입\n",
    "    for value in iterable:\n",
    "        heapq.heappush(h,value)   # 최대 힙은 -value로 부호 바꿔줌\n",
    "    # 힙에 삽입된 모든 원소 차례대로 꺼내어 담기\n",
    "    for i in range(len(h)):\n",
    "        result.append(heapq.heappop(h))\n",
    "    return result\n",
    "\n",
    "result = heapsort([1,3,5,7,9,2,4,6,8,0])\n",
    "print(result)"
   ]
  },
  {
   "cell_type": "code",
   "execution_count": null,
   "metadata": {},
   "outputs": [],
   "source": [
    "# 다익스트라 알고리즘의 수행시간 해결하기 위해 \n",
    "# 방문하지 않은 노드 중 최단거리 가장 짧은 노드 선택을 위해.....'힙' 자료구조를 사용\n",
    "\n",
    "\n",
    "# 시간 복잡도 O(ElogV)"
   ]
  },
  {
   "cell_type": "code",
   "execution_count": 8,
   "metadata": {},
   "outputs": [],
   "source": [
    "# 플로이드 워셜 알고리즘\n",
    "\n",
    "# 단계별로 거쳐 가는 노드를 기준으로 알고리즘 수행\n",
    "# 방문하지 않은 노드 중 최단 거리 갖는 노드 찾는 과정 필요 x\n",
    "\n",
    "# 시간 복잡도는 O(N^3)\n",
    "\n",
    "# a에서 b로 가는 최단 거리보다. a에서 k를 거쳐 b로 가는 거리가 더 짧은건지 검사\n",
    "\n",
    "# Dab = min(Dab, Da1 + Db1)\n"
   ]
  },
  {
   "cell_type": "code",
   "execution_count": null,
   "metadata": {},
   "outputs": [],
   "source": [
    "INF = int(1e9) # 무한\n",
    "#노드, 간선 개수 입력 받기\n",
    "n = int(input())\n",
    "m = int(input())\n",
    "\n",
    "# 2차원 리스트를 만들고 무한으로 초기화\n",
    "graph = [[INF]*(n+1) for _ in range(n+1)]\n",
    "\n",
    "#자기 자신으로 가는 비용 0으러 초기화\n",
    "for a in range(1,n+1):\n",
    "    for b in range(1,n+1):\n",
    "        if a==b:\n",
    "            graph[a][b] = 0\n",
    "\n",
    "# 각 간선에 대한 정보 입력받아 그 값 초기화\n",
    "for _ in range(m):\n",
    "    # a에서 b로가는 비용 c로 설정\n",
    "    a,b,c = map(int, input().split())\n",
    "    graph[a][b] = c\n",
    "\n",
    "# 점화식에 따라 플로이드 워셜 알고리즘 수행\n",
    "for k in range(1,n+1):  # k: 거쳐가는 노드\n",
    "    for a in range(1,n+1): # a: 출발노드\n",
    "        for b in range(1,n+1):  # b : 도착 노드\n",
    "            graph[a][b] = min(graph[a][b], graph[a][k] + graph[k][a])\n",
    "\n",
    "# 수행된 결과 출력\n",
    "for a in range(1,n+1):\n",
    "    for b in range(1, n+1):\n",
    "        # 도달 못하는 경우 무한으로 출력\n",
    "        if graph[a][b] == INF:\n",
    "            print(\"INFINITY\", end = ' ')\n",
    "        #도달 할 수 있으면 거리 출력\n",
    "        else:\n",
    "            print(graph[a][b], end = ' ')\n",
    "    print()\n"
   ]
  },
  {
   "cell_type": "code",
   "execution_count": null,
   "metadata": {},
   "outputs": [],
   "source": [
    "# 음수 간선이 포함된 상황에서의 최단 거리 문제\n",
    "\n",
    "# 모든 간선 비용 양수 -> 다익스트라 최단 경로 알고리즘 사용\n",
    "\n",
    "# 음수 간선 포함되면 최단 거리가 음의 무한인 노드가 발생\n",
    "\n",
    "# ---> 벨만 포드 최단 경로 알고리즘 (음수 간선 순환 탐지 가능)\n",
    "# 시간복잡도 O(EV)로 더 느림  (매번 모든 간선을 전부 확인)"
   ]
  },
  {
   "cell_type": "code",
   "execution_count": 5,
   "metadata": {},
   "outputs": [],
   "source": [
    "# 서로소 집합 알고리즘  ---> 합치기&찾기 알고리즘\n",
    "\n",
    "# 공통 원소가 없는 두 집합 ex) {1,2}, {3,4}\n",
    "\n",
    "# 합집합 \n",
    "# 찾기 : 특정한 원소가 속한 집합이 어떤 집합인지 알려줌\n",
    "\n",
    "\n",
    "# 합집합 연산을 확인하여 서로 연견된 두 노드 A,B를 확인\n",
    "# A,B의 루트 노드 A',B'를 찾음\n",
    "# A',B'를 부모 노드로 설정\n",
    "# 모든 합집합 연산 처리시까지 위 과정 반복"
   ]
  },
  {
   "cell_type": "code",
   "execution_count": null,
   "metadata": {},
   "outputs": [],
   "source": [
    "# 특정 원소가 속한 집합 찾기\n",
    "def  find_parent(parent,x):\n",
    "    # 루트 노드를 찾을 때까지 호출\n",
    "    if parent[x] != x:\n",
    "        return find_parent(parent,parent[x])\n",
    "    return x\n",
    "\n",
    "# 두 원소가 속한 집합을 합치기\n",
    "def union_parent(parent,a,b):\n",
    "    a = find_parent(parent,a)\n",
    "    b = find_parent(parent,b)\n",
    "    if a < b:\n",
    "        parent[b] = a\n",
    "    else:\n",
    "        parent[a] = b\n",
    "\n",
    "    \n",
    "# 노드 개수와 간선 개수 입력받기\n",
    "v, e = map(int, input().split())\n",
    "parent = [0] * (v+1) # 부모 테이블 초기화\n",
    "\n",
    "# 부모 테이블상에서 부모를 자기 자신으로 초기화\n",
    "for i in range(1,v+1):\n",
    "    parent[i] = i\n",
    "\n",
    "# union 연산을 각각 수행\n",
    "for i in range(e):\n",
    "    a,b = map(int, input().split())\n",
    "    union_parent(parent,a,b)\n",
    "\n",
    "# 각 원소가 속한 집합 출력하기\n",
    "print('각 원소가 속한 집합: ', end = ' ')\n",
    "for i in range(1, v+1):\n",
    "    print(find_parent(parent,i), end= ' ')\n",
    "\n",
    "print()\n",
    "\n",
    "# 부모 테이블 내용 출력\n",
    "print('부모 테이블: ', end = ' ')\n",
    "for i in range(1, v+1):\n",
    "    print(parent[i], end = ' ')"
   ]
  },
  {
   "cell_type": "code",
   "execution_count": 7,
   "metadata": {},
   "outputs": [],
   "source": [
    "# 서로소 집합 알고리즘 문제점\n",
    "\n",
    "# 합집합 연산이 편향적이면 찾기 함수 비효율적 동작 -> 찾기 함수가 모든 노드 다 확인해서 시간복잡도 O(V) 될 수도"
   ]
  },
  {
   "cell_type": "code",
   "execution_count": 8,
   "metadata": {},
   "outputs": [],
   "source": [
    "# 경로 압축 \n",
    "\n",
    "# 특정 원소가 속한 집합 찾기\n",
    "def find_parent(parent, x):\n",
    "    # 루트 노드가 아니라면, 루트 노드를 찾을 때까지 재귀적으로 호출\n",
    "    if parent[x] != x:\n",
    "        parent[x] = find_parent(parent, parent[x])\n",
    "    return parent[x]\n",
    "\n",
    "# 찾기 함수 호출한 이후 해당 노드의 루트 노드가 '바로' 부모 노드가 됨.\n",
    "\n",
    "#위 코드에서 이거만 변경해줌."
   ]
  },
  {
   "cell_type": "code",
   "execution_count": null,
   "metadata": {},
   "outputs": [],
   "source": [
    "# 서로소 집합 활용한 사이클 판별\n",
    "\n",
    "# 간선 하나씩 확인해 두 노드의 루트 노드 확인\n",
    "# 루트 노드 서로 다르면 두 노드에 대해 합집합(union) 연산 수행\n",
    "# 루트 노드 서로 같으면 사이클이 발생한 것임 !!!\n",
    "\n",
    "# 그래프 포함된 모든 간선에 대해 위 과정 반복\n"
   ]
  },
  {
   "cell_type": "code",
   "execution_count": null,
   "metadata": {},
   "outputs": [],
   "source": [
    "def find_parent(parent, x):\n",
    "    # 루트 노드가 아니라면, 루트 노드를 찾을 때까지 재귀적으로 호출\n",
    "    if parent[x] != x:\n",
    "        parent[x] = find_parent(parent, parent[x])\n",
    "    return parent[x]\n",
    "\n",
    "# 두 원소가 속한 집합을 합치기\n",
    "def union_parent(parent,a,b):\n",
    "    a = find_parent(parent,a)\n",
    "    b = find_parent(parent,b)\n",
    "    if a < b:\n",
    "        parent[b] = a\n",
    "    else:\n",
    "        parent[a] = b\n",
    "\n",
    "# 노드 개수와 간선 개수 입력받기\n",
    "v, e = map(int, input().split())\n",
    "parent = [0] * (v+1) # 부모 테이블 초기화\n",
    "\n",
    "# 부모 테이블상에서 부모를 자기 자신으로 초기화\n",
    "for i in range(1,v+1):\n",
    "    parent[i] = i\n",
    "\n",
    "cycle = False # 사이클 발생 여부\n",
    "\n",
    "for i in range(e):\n",
    "    a,b = map(int, input().split())\n",
    "    # 사이클 발생한 경우 종료\n",
    "    if find_parent(parent,a) == find_parent(parent,b):\n",
    "        cycle = True\n",
    "        break\n",
    "    # 사이클 발생 안했으면 합집합(union) 연산 수행\n",
    "    else:\n",
    "        union_parent(parent,a,b)\n",
    "\n",
    "if cycle:\n",
    "    print('사이클 발생함')\n",
    "else:\n",
    "    print('사이블 발생 X')"
   ]
  },
  {
   "cell_type": "code",
   "execution_count": 1,
   "metadata": {},
   "outputs": [],
   "source": [
    "# 신장 트리\n",
    "# 그래프에서 모든 노드를 포함하면서 '사이클'이 없는 그래프\n",
    "\n",
    "# 크루스칼 알고리즘  --> 오름차순정렬 ---> 비용 작은 간선부터 순처적으로 탐색 --->\n",
    "# 사이클 발생 X -> 최소 신상 트리에 포함 /// 사이클 발생 O -> 최소 신장 트리에 포함 X  (즉, 사이클 만들어지는걸 피하도록 간선을 제외)\n",
    "# 모든 간선에 대해 위 과정 반복\n",
    "\n",
    "# O(ElogE)의 시간복잡도"
   ]
  },
  {
   "cell_type": "code",
   "execution_count": null,
   "metadata": {},
   "outputs": [],
   "source": [
    "# 특정 원소가 속한 집합을 찾기 (서로소 부모 노드 찾기 함수)\n",
    "def find_parent(parent, x):\n",
    "    # 루트 노드가 아니라면, 루트 노드를 찾을 때까지 재귀적으로 호출\n",
    "    if parent[x] != x:\n",
    "        parent[x] = find_parent(parent, parent[x])\n",
    "    return parent[x]\n",
    "\n",
    "# 두 원소가 속한 집합을 합치기\n",
    "def union_parent(parent,a,b):\n",
    "    a = find_parent(parent,a)\n",
    "    b = find_parent(parent,b)\n",
    "    if a < b:\n",
    "        parent[b] = a\n",
    "    else:\n",
    "        parent[a] = b\n",
    "\n",
    "# 노드 개수와 간선 개수 입력받기\n",
    "v, e = map(int, input().split())\n",
    "parent = [0] * (v+1) # 부모 테이블 초기화\n",
    "\n",
    "# 모든 간선을 담을 리스트와, 최종 비용을 담을 변수\n",
    "edges = []\n",
    "result = 0\n",
    "\n",
    "# 부모 테이블상에서 부모를 자기 자신으로 초기화\n",
    "for i in range(1,v+1):\n",
    "    parent[i] = i\n",
    "\n",
    "# 모든 간선에 대한 정보 입력받기\n",
    "for _ in range(e):\n",
    "    a,b,cost = map(int,input().split())\n",
    "    # 비용순으로 정렬하기 위해 튜플의 첫 번쨰 원소를 비용으로 설정\n",
    "    edges.append((cost,a,b)) # 파이썬에선 튜블의 첫번쨰 값(cost)을 기준으로 정렬하고 수행됨.\n",
    "\n",
    "# 간선을 비용순으로 정렬\n",
    "edges.sort()\n",
    "\n",
    "# 간선을 하나씩 확인하여\n",
    "for edge in edges:\n",
    "    # 사이클이 발생하지 않는 경우만 집합에 포함\n",
    "    if find_parent(parent,a) != find_parent(parent,b):\n",
    "        union_parent(parent,a,b)\n",
    "        result += cost\n",
    "print(result)\n"
   ]
  },
  {
   "cell_type": "code",
   "execution_count": 2,
   "metadata": {},
   "outputs": [],
   "source": [
    "# 최소 공통 조상 문제\n",
    "\n",
    "# 모든 노드 깊이 계산\n",
    "# 두 노드를 확인 -> 1. 두 노드의 깊이가 동일하도록 한쪽을 거슬러 올라감 / 2. 부모가 같아질 때까지 반복적으로 두 노드의 부모 방향으로 거슬러 올라감\n",
    "# 모든 LCA(a,b) 연산에 대해 위 반복\n",
    "\n",
    "# 시간 복작도 : O(NM)"
   ]
  },
  {
   "cell_type": "code",
   "execution_count": null,
   "metadata": {},
   "outputs": [],
   "source": [
    "import sys\n",
    "sys.setrecursionlimit(int(1e5)) # 런타임 오류 피하기\n",
    "n = int(input())\n",
    "\n",
    "parent = [0] * (n +1) # 부모 노드 정보\n",
    "d = [0] * (n+1) # 각 노드까지의 깊이\n",
    "c = [0] * (n+1) # 각 노드의 깊이가 계산되었는지 여부\n",
    "graph = [[] for _ in range(n+1)] # 그래프 정보\n",
    "\n",
    "for _ in range(n-1):\n",
    "    a,b = map(int, input().split())\n",
    "    graph[a].append(b)\n",
    "    graph[b].append(a)\n",
    "\n",
    "# 루트 노드부터 시작하여 깊이를 구하는 함수\n",
    "def dfs(x,depth):\n",
    "    c[x] = True\n",
    "    d[x] = depth\n",
    "    for y in graph[x]:\n",
    "        if c[y]: # 이미 깊이를 구했다면 넘기기\n",
    "            continue\n",
    "        parent[y] = x\n",
    "        dfs(y, depth + 1) # 깊이에 1 더함\n",
    "\n",
    "# A와 B의 최소 공통 조상을 찾는 함수\n",
    "def lca(a,b):\n",
    "    # 먼저 깊이가 동일하도록 하나를 올림\n",
    "    while d[a] != d[b]:\n",
    "        if d[a] > d[b]:\n",
    "            a = parent[a]\n",
    "        else:\n",
    "            b = parent[b]\n",
    "    # 노드가 같아지도록\n",
    "    while a != b:\n",
    "        a = parent[a]\n",
    "        b = parent[b]\n",
    "    return a\n",
    "\n",
    "dfs(1,0) # 루트 노드는 1번 노드\n",
    "\n",
    "m = int(input())\n",
    "for i in range(m):\n",
    "    a,b = map(int, input().split())\n",
    "    print(lca(a,b))"
   ]
  },
  {
   "cell_type": "code",
   "execution_count": null,
   "metadata": {},
   "outputs": [],
   "source": [
    "# 다이나믹 프로그래밍으로 보완\n",
    "# ,각 노드가 올라가는 속도 빠르게 마드는 방법  (시간복잡도 : O(logN))\n",
    "# ex) 8 -> 4 -> 2 -> 1칸"
   ]
  },
  {
   "cell_type": "code",
   "execution_count": 2,
   "metadata": {},
   "outputs": [],
   "source": [
    "# 위상 정렬\n",
    "\n",
    "# 사이클 없는 방향 그래프의 모든 노드를 방향성에 거스르지 않고 순서대로 나열\n",
    "\n",
    "# 진입차수 : 특정한 노드르 들어오는 간선 개수\n",
    "# 진출차수 : 특정한 노드에서 나가는 간선 개수\n",
    "\n",
    "# 진입차수가 0인 모든 노드에 큐 삽입   (그래프는 사이클 없어야)\n",
    "# 큐가 빌 때까지 밑 과정 반복\n",
    "    # 큐에서 원소 꺼내 해당 노드에서 나가는 간선을 그래프에서 제거\n",
    "    # 새롭게 진입차수가 0이 된 노드를 큐에 넣음.\n",
    "# ---> 각 노드가 큐에 들어온 순서 = 위상 정렬 수행한 결과\n",
    "\n",
    "# 한 단계에서 큐에 새롭에 들어가는 원소가 2개 이상인 경우에는 여러가지 답 존재\n",
    "# 모든 원소 방문하기 전 큐가 빈다면 사이클이 존재!!! (사이클에 포함된 원소는 큐에 못 들어가서)\n",
    "# 스택을 활용한 DFS를 이용해 위상 정렬 수행 가능"
   ]
  },
  {
   "cell_type": "code",
   "execution_count": 6,
   "metadata": {},
   "outputs": [
    {
     "name": "stdout",
     "output_type": "stream",
     "text": [
      "1 "
     ]
    }
   ],
   "source": [
    "from collections import deque\n",
    "\n",
    "# 노드의 개수와 간선의 개수 입력받기\n",
    "v,e = map(int, input().split())\n",
    "# 모든 노드에 대한 진입차수는 0으로 초기화\n",
    "indegree = [0] * (v+1)\n",
    "# 각 노드에 연결된 간선 정보를 담기 위한 연결 리스트 초기화\n",
    "graph = [[] for i in range(v+1)]\n",
    "\n",
    "# 방향 그래프의 모든 간선 정보를 입력 받기\n",
    "for _ in range(e):\n",
    "    a, b = map(int, input().split())\n",
    "    graph[a].append(b) # 정점 A에서 B로 이동 가능\n",
    "    # 진입 차수를 1 증가\n",
    "    indegree[b]+= 1\n",
    "\n",
    "# 위상 정렬 함수\n",
    "def topology_sort():\n",
    "    result = [] # 알고리즘 수행 결과 담을 리스트\n",
    "    q = deque() # 큐 기능을 위한 deque 라이브러리 사용\n",
    "    # 처음 시작할 때는 진입차수가 0인 노드를 큐에 삽입\n",
    "    for i in range(1,v+1):\n",
    "        if indegree[i] == 0:\n",
    "            q.append(i)\n",
    "    # 큐가 빌 때까지 반복\n",
    "    while q:\n",
    "        # 큐에서 원소 꺼내기\n",
    "        now = q.popleft()\n",
    "        result.append(now)\n",
    "        # 해당 원소와 연결된 노드들의 진입차수에서 1 빼기\n",
    "        for i in graph[now]:\n",
    "            indegree[i] -= -1\n",
    "            # 새롭게 진입차수가 0이 되는 노드를 큐에 사입\n",
    "            if indegree[i] == 0:\n",
    "                q.append(i)\n",
    "    # 위상 정렬을 수행한 결과를 출력\n",
    "    for i in result:\n",
    "        print(i, end = ' ')\n",
    "\n",
    "topology_sort()\n"
   ]
  },
  {
   "cell_type": "code",
   "execution_count": 7,
   "metadata": {},
   "outputs": [],
   "source": [
    "# 위상 정렬은 차례대로 모든 노드를 확인하며 각 노드에서 나가는 간선을 차례대로 제거해야\n",
    "# 시간 복잡도 = O(V+E)"
   ]
  },
  {
   "cell_type": "code",
   "execution_count": 8,
   "metadata": {},
   "outputs": [],
   "source": [
    "# 재귀 함수 : 자기 자신을 다시 호출\n",
    "# 재귀 함수의 종료 조건을 반드시 명시해야"
   ]
  },
  {
   "cell_type": "code",
   "execution_count": 9,
   "metadata": {},
   "outputs": [],
   "source": [
    "# 팩토리얼 구현 얘제\n",
    "\n",
    "# 반복문으로 구현한 n!\n",
    "def factorial_iterable(n):\n",
    "    result = 1\n",
    "    # 1부터 n까지의 수 차례대로 곱하기\n",
    "    for i in range(1, n+1):\n",
    "        result *= i\n",
    "    return result\n",
    "\n",
    "# 재귀적으로 구현한 n!\n",
    "def factorial_recursive(n):\n",
    "    if n<= 1: # n이 1 이하인 경우 1을 반환\n",
    "        return 1\n",
    "    # n! = n * (n-1)! 를 그대로 코드로 작성\n",
    "    return n * factorial_recursive(n-1)"
   ]
  },
  {
   "cell_type": "code",
   "execution_count": 10,
   "metadata": {},
   "outputs": [],
   "source": [
    "# 유클리드 호제법   --> 최대공약수 구하기\n",
    "\n",
    "def gcd(a,b):\n",
    "    if a % b == 0:\n",
    "        return b\n",
    "    else:\n",
    "        return gcd(b, a % b)"
   ]
  },
  {
   "cell_type": "code",
   "execution_count": 11,
   "metadata": {},
   "outputs": [],
   "source": [
    "# 함수 연속적 호출시 메모리 내부의 스택 프레임이 쌓임 --> 스텍 사용시 구현상 스택 라이브러리 대신 재귀 함수 이용하는 경우 많음"
   ]
  },
  {
   "cell_type": "code",
   "execution_count": null,
   "metadata": {},
   "outputs": [],
   "source": []
  },
  {
   "cell_type": "code",
   "execution_count": 12,
   "metadata": {},
   "outputs": [],
   "source": [
    "# 실전에서 유용한 표준 라이브러리\n",
    "\n",
    "# 내장 함수: 기본 입출력부터 정렬 함수까지 기본적인 함수들 제공\n",
    "# itertools: 파이썬에서 반복되는 형태의 데이터 처리시 유용\n",
    "    # 순열, 조합 라이브러리 ---> 코딩 테스트에서 자주 사용됨\n",
    "# heap : 힙 자료구조 제공\n",
    "    # 일반적으로 우선순위 큐 기능 구현에 사용\n",
    "# bisect : 이진 탐색 기능 제공\n",
    "# collections : 덱, 카운터 등의 유용한 자료구조 포함\n",
    "# math : 필수적인 수학적 기능 제공\n",
    "    # 팩토리얼, 제곱근, 최대공약수, 삼각함수, 파이 등 상수 등등"
   ]
  },
  {
   "cell_type": "code",
   "execution_count": 14,
   "metadata": {},
   "outputs": [
    {
     "name": "stdout",
     "output_type": "stream",
     "text": [
      "15\n",
      "2 7\n",
      "56\n",
      "[('이순신', 75), ('아무개', 50), ('홍길동', 35)]\n"
     ]
    }
   ],
   "source": [
    "# sum()\n",
    "result = sum([1,2,3,4,5])\n",
    "print(result)\n",
    "\n",
    "# max(), min()\n",
    "min_result = min(7,3,5,2)\n",
    "max_rusult = max(7,3,5,2)\n",
    "print(min_result, max_rusult)\n",
    "\n",
    "# eval()\n",
    "result = eval('(3+5) * 7')\n",
    "print(result)\n",
    "\n",
    "# sorted()\n",
    "result = sorted([9,1,8,5,4])\n",
    "reverse_result = sorted([9,1,8,5,4], reverse=True)\n",
    "\n",
    "# sorted() with key\n",
    "array = [('홍길동',35),('이순신',75),('아무개',50)]\n",
    "result = sorted(array, key = lambda x : x[1], reverse=True)\n",
    "print(result)"
   ]
  },
  {
   "cell_type": "code",
   "execution_count": 15,
   "metadata": {},
   "outputs": [],
   "source": [
    "# 순열과 조합"
   ]
  },
  {
   "cell_type": "code",
   "execution_count": 21,
   "metadata": {},
   "outputs": [
    {
     "name": "stdout",
     "output_type": "stream",
     "text": [
      "수열 : [('A', 'B'), ('A', 'C'), ('B', 'A'), ('B', 'C'), ('C', 'A'), ('C', 'B')]\n",
      "조합 : [('A', 'B'), ('A', 'C'), ('B', 'C')]\n"
     ]
    }
   ],
   "source": [
    "# 순열\n",
    "from itertools import permutations\n",
    "data = ['A','B','C'] # 데이터 준비\n",
    "result = list(permutations(data, 2)) # 2개를 뽑는 모든 수열 구하기\n",
    "print('수열 :',result)\n",
    "\n",
    "# 조합\n",
    "from itertools import combinations\n",
    "result = list(combinations(data, 2)) # 2개를 뽑는 모든 조합 구하기\n",
    "print('조합 :',result)\n"
   ]
  },
  {
   "cell_type": "code",
   "execution_count": 23,
   "metadata": {},
   "outputs": [
    {
     "name": "stdout",
     "output_type": "stream",
     "text": [
      "[('A', 'A'), ('A', 'B'), ('A', 'C'), ('B', 'A'), ('B', 'B'), ('B', 'C'), ('C', 'A'), ('C', 'B'), ('C', 'C')]\n",
      "[('A', 'A'), ('A', 'B'), ('A', 'C'), ('B', 'B'), ('B', 'C'), ('C', 'C')]\n"
     ]
    }
   ],
   "source": [
    "# 중복 순열\n",
    "from itertools import product\n",
    "data = ['A','B','C'] # 데이터 준비\n",
    "result = list(product(data, repeat = 2)) # 2개를 뽑는 모든 수열 구하기 (중복 허용)\n",
    "print(result)\n",
    "\n",
    "# 중복 조합\n",
    "from itertools import combinations_with_replacement\n",
    "data = ['A','B','C'] # 데이터 준비\n",
    "result = list(combinations_with_replacement(data, 2)) # 2개를 뽑는 모든 조합 구하기 (중복 허용)\n",
    "print(result)"
   ]
  },
  {
   "cell_type": "code",
   "execution_count": 24,
   "metadata": {},
   "outputs": [
    {
     "name": "stdout",
     "output_type": "stream",
     "text": [
      "3\n",
      "1\n",
      "{'red': 2, 'blue': 3, 'green': 1}\n"
     ]
    }
   ],
   "source": [
    "# counter : 등장 횟수를 세는 기능\n",
    "# 리스트와 같은 반복 가능한(iterable) 객체 주어졌을 때, '내부의 원소가 몇 번씩 등장했는지' 알려줌.\n",
    "\n",
    "from collections import Counter\n",
    "\n",
    "counter = Counter(['red','blue','red','green','blue','blue'])\n",
    "\n",
    "print(counter['blue'])\n",
    "print(counter['green'])\n",
    "print(dict(counter))"
   ]
  },
  {
   "cell_type": "code",
   "execution_count": 27,
   "metadata": {},
   "outputs": [
    {
     "name": "stdout",
     "output_type": "stream",
     "text": [
      "7\n",
      "42\n"
     ]
    }
   ],
   "source": [
    "# math -> 최대공약수, 최소공배수\n",
    "\n",
    "import math\n",
    "\n",
    "# 최소 공배수(lcm) 구하는 함수\n",
    "def lcm(a,b):\n",
    "    return a * b // math.gcd(a,b)\n",
    "\n",
    "a = 21\n",
    "b = 14\n",
    "\n",
    "print(math.gcd(21,14))\n",
    "print(lcm(21,14))\n"
   ]
  },
  {
   "cell_type": "code",
   "execution_count": 29,
   "metadata": {},
   "outputs": [],
   "source": [
    "# 소수  --> 코딩 테스트에서 자주 출제\n",
    "\n",
    "# 소수 판별 함수 (2 이상의 자연수에 대해서)\n",
    "def is_prime_number(x):\n",
    "    # 2부터 (x-1)까지의 모든 수를 확인하며\n",
    "    for i in range(2, x):\n",
    "        # x가 해당 수로 나눠 떨어지면\n",
    "        if x % i == 0:\n",
    "            return False # 소수가 아님\n",
    "    return True # 소수임\n",
    "\n",
    "# 모든 수를 하나씩 확인 -> 시간 복잡도 O(X)"
   ]
  },
  {
   "cell_type": "code",
   "execution_count": 31,
   "metadata": {},
   "outputs": [],
   "source": [
    "# 소수 판별 알고리즘 개선 (모든 약수 중 가운데 약수를 기준으로 양옆으로 곱셈연산 대칭됨)\n",
    "import math\n",
    "\n",
    "# 소수 판별 함수 (2 이상의 자연수에 대해서)\n",
    "def is_prime_number(x):\n",
    "    # 2부터 x의 제곱근까지의 모든 수를 확인하며\n",
    "    for i in range(2, int(math.sqrt(x)) + 1):\n",
    "        # x가 해당 수로 나눠 떨어지면\n",
    "        if x % i == 0:\n",
    "            return False # 소수가 아님\n",
    "    return True # 소수임\n",
    "\n",
    "# 시간 복잡도 = O(N^0.5)"
   ]
  },
  {
   "cell_type": "code",
   "execution_count": 32,
   "metadata": {},
   "outputs": [],
   "source": [
    "# x특정한 범위 안에 존재하는 모든 소수를 찾아야 할 때는??\n",
    "\n",
    "# --> 에라토스테네스의 체 알고리즘 사용\n",
    "# N보다 작거나 같은 모든 소수를 찾을 때 사용\n",
    "    # 1. 2 ~ N까지의 모든 자연수 나열\n",
    "    # 2. 남은 수 중 아직 처리 안한 가장 작은 수 i 찾음\n",
    "    # 3. 남은 수 중에서 i의 배수를 모두 제거 (i는 제거 X)\n",
    "    # 4. 더 이상 반복 못할 때까지 2~3 과정 반복"
   ]
  },
  {
   "cell_type": "code",
   "execution_count": 35,
   "metadata": {},
   "outputs": [
    {
     "name": "stdout",
     "output_type": "stream",
     "text": [
      "2 3 5 7 11 13 17 19 23 29 31 37 41 43 47 53 59 61 67 71 73 79 83 89 97 101 103 107 109 113 127 131 137 139 149 151 157 163 167 173 179 181 191 193 197 199 211 223 227 229 233 239 241 251 257 263 269 271 277 281 283 293 307 311 313 317 331 337 347 349 353 359 367 373 379 383 389 397 401 409 419 421 431 433 439 443 449 457 461 463 467 479 487 491 499 503 509 521 523 541 547 557 563 569 571 577 587 593 599 601 607 613 617 619 631 641 643 647 653 659 661 673 677 683 691 701 709 719 727 733 739 743 751 757 761 769 773 787 797 809 811 821 823 827 829 839 853 857 859 863 877 881 883 887 907 911 919 929 937 941 947 953 967 971 977 983 991 997 "
     ]
    }
   ],
   "source": [
    "import math\n",
    "\n",
    "n = 1000 # 2~1000까지 중 소수 판별\n",
    "# 처음엔 모든 수가 소수인 것으로 초기화 (0,1 제외)\n",
    "array = [True for i in range(n+1)]\n",
    "# 에라토스테네스의 체 알고리즘 수행\n",
    "# 2부터 n까지의 제곱근까지의 모든 수를 확인하며\n",
    "for i in range(2, int(math.sqrt(n)) + 1):\n",
    "    if array[i] == True: # i가 소수인 경우\n",
    "        # i를 제외한 i의 모든 배수 삭제\n",
    "        j = 2\n",
    "        while i*j <=n:\n",
    "            array[i*j] = False\n",
    "            j += 1\n",
    "# 모든 소수 출력\n",
    "for i in range(2, n+1):\n",
    "    if array[i]:\n",
    "        print(i, end = ' ')\n",
    "\n",
    "# 시간 복잡도 : O(NloglogN)"
   ]
  },
  {
   "cell_type": "code",
   "execution_count": 37,
   "metadata": {},
   "outputs": [],
   "source": [
    "# 이진 탐색 알고리즘\n",
    "\n",
    "# 순차 탐색: 리스트 안에 있는 특정 데이터 찾기 위해 앞에서부터 하나씩 확인\n",
    "# 이진 탐색 : 정렬되있는 리스트에서 '탐색 범위를 절반씩 좁혀가며' 데이터 탐색\n",
    "    # 시작점, 끝점, 중간점 이용해 탐색 범위 설정\n",
    "# 연산 횟수는 log2 N에 비례\n",
    "# 시간복잡도 = O(logN) 보장"
   ]
  },
  {
   "cell_type": "code",
   "execution_count": null,
   "metadata": {},
   "outputs": [],
   "source": [
    "# 이진 탐색 소스코드 구현 (재귀 함수)\n",
    "def binary_search(array, target, start, end): # target은 찾는 값\n",
    "    if start > end:\n",
    "        return None\n",
    "    mid = (start + end) // 2\n",
    "    # 찾은 경우 중간점 인덱스 반환\n",
    "    if array[mid] == target:\n",
    "        return mid\n",
    "    # 중간점의 값보다 찾고자 하는 값이 작은 경우 왼쪽 확인\n",
    "    elif array[mid] > target:\n",
    "        return binary_search(array, target, start, mid -1)\n",
    "    # 중간점의 값보다 찾고자 하는 값이 큰 경우 오른쪽 확인\n",
    "    else:\n",
    "        return binary_search(array,target,mid + 1, end)\n",
    "\n",
    "# n(원소의 개수)과 target(찾고자 하는 값) 입력 받기\n",
    "n, target = list(map(int, input().split()))\n",
    "# 전체 원소 입력 받기\n",
    "array = list(int, input().split())\n",
    "\n",
    "# 이진 탐색 수행 결과 확인\n",
    "result = binary_search(array, target, 0, n-1)\n",
    "if result == None:\n",
    "    print('해당 원소가 존재하지 않습니다.')\n",
    "else:\n",
    "    print(result +1)\n",
    "\n",
    "\n",
    "\n",
    "# 반복문으로도 가능\n",
    "\n",
    "def binary_search(array, target, start, end):\n",
    "    while start <= end:\n",
    "        mid = (start + end) // 2\n",
    "        if array[mid] == target:\n",
    "            return mid\n",
    "        elif array[mid] > target:\n",
    "            end = mid - 1\n",
    "        else:\n",
    "            start = mid +1\n",
    "    return None"
   ]
  },
  {
   "cell_type": "code",
   "execution_count": 44,
   "metadata": {},
   "outputs": [
    {
     "name": "stdout",
     "output_type": "stream",
     "text": [
      "2\n",
      "4\n"
     ]
    }
   ],
   "source": [
    "# bisec_left(a,x): 정렬된 순서를 유지하며 배열 a에 x를 삽입할 가장 왼쪽 인덱스 반환\n",
    "# bisec_right(a,x): 정렬된 순서를 유지하며 배열 a에 x를 삽입할 가장 오른쪽 인덱스 반환\n",
    "\n",
    "from bisect import bisect_left,bisect_right\n",
    "a = [1,2,4,4,8]\n",
    "x = 4\n",
    "\n",
    "print(bisect_left(a,x))\n",
    "print(bisect_right(a,x))\n"
   ]
  },
  {
   "cell_type": "code",
   "execution_count": 46,
   "metadata": {},
   "outputs": [
    {
     "name": "stdout",
     "output_type": "stream",
     "text": [
      "2\n",
      "6\n"
     ]
    }
   ],
   "source": [
    "from bisect import bisect_left,bisect_right\n",
    " # 값이 [left_value, right_value]인 데이터의 개수 반환하는 함수\n",
    "def count_by_range(a, left_value, right_value):\n",
    "    right_index = bisect_right(a, right_value)\n",
    "    left_index = bisect_left(a, left_value)\n",
    "    return right_index - left_index\n",
    "\n",
    "# 배열 선언\n",
    "a = [1,2,3,3,3,3,4,4,8,9]\n",
    "\n",
    "# 값이 4인 데이터 개수 출력\n",
    "print(count_by_range(a,4,4))\n",
    "\n",
    "# 값이 [-1,3] 범위에 있는 데이터 개수 출력\n",
    "print(count_by_range(a,-1,3))"
   ]
  },
  {
   "cell_type": "code",
   "execution_count": 47,
   "metadata": {},
   "outputs": [],
   "source": [
    "# 파라메트릭 서치 : 최적화 문제를 결정 문제(Y or N)로 바꾸어 해결하는 기법\n",
    "    # 최적화 문제: 어떤 함수의 값을 가능한 낮추거나, 어떤 함수의 값을 가능한 높이거나 하는 등의 문제를 의미\n",
    "    # 파라메트릭 서치 ex) 특정한 조건을 만족하는 가장 알맞은 값을 빠르게 찾는 최적화 문제\n",
    "\n",
    "# 코딩 테스트에선 '이진 탐색'을 이용해 해결 가능\n",
    "\n",
    "# 탐색 범위가 크면 가장 먼저 '이진 탐색' 먼저 떠올리는게 좋음"
   ]
  },
  {
   "cell_type": "code",
   "execution_count": null,
   "metadata": {},
   "outputs": [],
   "source": [
    "# 떡의 개수(N)과 요청한 떡의 길이(M)을 입력\n",
    "n,m = list(map(int, input().split()))\n",
    "# 각 떡의 개별 높이 정보를 입력\n",
    "array = list(map(int, input().split()))\n",
    "\n",
    "# 이진 탐색을 위한 시작점과 끝점 설정\n",
    "start = 0\n",
    "end = max(array)\n",
    "\n",
    "# 이진 탐색을 위한 시작점과 끝점 설정\n",
    "result = 0\n",
    "while(start <= end):\n",
    "    total = 0\n",
    "    mid = (start + end) // 2\n",
    "    for x in array:\n",
    "        # 잘랐을 때의 떡의 양 계산\n",
    "        if x > mid:\n",
    "            total += x - mid\n",
    "        # 떡의 양이 부족한 경우 더 많이 자르기 (왼쪽 부분 탐색)\n",
    "        if total < m:\n",
    "            end = mid -1\n",
    "        # 떡의 양이 충분한 경우 덜 자르기 (오른쪽 부분 탐색)\n",
    "        else:\n",
    "            result = mid # 최대한 덜 잘랐을 때가 정답이므로, 여기서 result에 기록\n",
    "            start = mid + 1\n",
    "\n",
    "# 최종적으로 result에 가장 마지막으로 기록된 높이값을 출력하면 됨.\n",
    "print(result)"
   ]
  },
  {
   "cell_type": "code",
   "execution_count": 49,
   "metadata": {},
   "outputs": [],
   "source": [
    "# 정렬된 배열에서 특정 수의 개수 구하기\n",
    "\n",
    "# N개의 원소를 포함하고 있는 수열이 이미 오른차순으로 정렬된 상태\n",
    "# 이 수열에서 x가 등장하는 횟수를 계산\n",
    "\n",
    "# 시간 복잡도 : O(logN) --> 알고리즘 설계 안하면 시간 초과 판정\n",
    "\n",
    "# 특정 값이 등장하는 '첫번째 위치', '마지막 위치'를 찾아 '위치 차이'를 계산해 문제 해결 가능"
   ]
  },
  {
   "cell_type": "code",
   "execution_count": null,
   "metadata": {},
   "outputs": [],
   "source": [
    "from bisect import bisect_left,bisect_right\n",
    " # 값이 [left_value, right_value]인 데이터의 개수 반환하는 함수\n",
    "def count_by_range(a, left_value, right_value):\n",
    "    right_index = bisect_right(a, right_value)\n",
    "    left_index = bisect_left(a, left_value)\n",
    "    return right_index - left_index\n",
    "\n",
    "n,m = list(map(int, input().split())) # 데이터 개수 N, 찾고자 하는 값 x 입력받기\n",
    "array = list(map(int, input().split())) # 전체 데이터 입력받기\n",
    "\n",
    "# 값이 [x,x] 범위에 있는 데이터 개수 계산 --> left_value & right_value 모두 x로 넣어줌\n",
    "count = count_by_range(array,x,x)\n",
    "\n",
    "# 값이 x인 원소 없다면\n",
    "if count == 0:\n",
    "    print(-1)\n",
    "# x인 원소 있다면\n",
    "else:\n",
    "    print(count)"
   ]
  },
  {
   "cell_type": "code",
   "execution_count": null,
   "metadata": {},
   "outputs": [],
   "source": []
  }
 ],
 "metadata": {
  "kernelspec": {
   "display_name": "base",
   "language": "python",
   "name": "python3"
  },
  "language_info": {
   "codemirror_mode": {
    "name": "ipython",
    "version": 3
   },
   "file_extension": ".py",
   "mimetype": "text/x-python",
   "name": "python",
   "nbconvert_exporter": "python",
   "pygments_lexer": "ipython3",
   "version": "3.9.13"
  },
  "orig_nbformat": 4,
  "vscode": {
   "interpreter": {
    "hash": "30baee32c445b56b5bebd971439750611d62fad669ff493377e475030ea087db"
   }
  }
 },
 "nbformat": 4,
 "nbformat_minor": 2
}
